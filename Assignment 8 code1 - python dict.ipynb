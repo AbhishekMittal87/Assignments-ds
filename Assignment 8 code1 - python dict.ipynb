{
 "cells": [
  {
   "cell_type": "markdown",
   "id": "0b91ffb3",
   "metadata": {},
   "source": [
    "Ex-1 Convert two lists into a dictionary"
   ]
  },
  {
   "cell_type": "code",
   "execution_count": 1,
   "id": "680643d9",
   "metadata": {},
   "outputs": [],
   "source": [
    "keys=['Ten', 'Twenty', 'Thirty']\n",
    "values = [10,20,30]"
   ]
  },
  {
   "cell_type": "code",
   "execution_count": 5,
   "id": "803a4e09",
   "metadata": {},
   "outputs": [
    {
     "name": "stdout",
     "output_type": "stream",
     "text": [
      "{'Ten': 10, 'Twenty': 20, 'Thirty': 30}\n"
     ]
    }
   ],
   "source": [
    "res_dict=dict(zip(keys,values))\n",
    "print(res_dict)"
   ]
  },
  {
   "cell_type": "code",
   "execution_count": 6,
   "id": "8bc3cc22",
   "metadata": {},
   "outputs": [],
   "source": [
    "keys=['Ten', 'Twenty', 'Thirty']\n",
    "values = [10,20,30]"
   ]
  },
  {
   "cell_type": "code",
   "execution_count": 8,
   "id": "7562db5c",
   "metadata": {},
   "outputs": [
    {
     "name": "stdout",
     "output_type": "stream",
     "text": [
      "{'Ten': 10}\n",
      "{'Ten': 10, 'Twenty': 20}\n",
      "{'Ten': 10, 'Twenty': 20, 'Thirty': 30}\n"
     ]
    }
   ],
   "source": [
    "res_dict=dict()\n",
    "for i in range(len(keys)):\n",
    "    res_dict.update({keys[i]:values[i]})\n",
    "    print(res_dict)"
   ]
  },
  {
   "cell_type": "markdown",
   "id": "84e97bac",
   "metadata": {},
   "source": [
    "Ex-2 Merge two Python dictionaries into one"
   ]
  },
  {
   "cell_type": "code",
   "execution_count": 9,
   "id": "f22c4936",
   "metadata": {},
   "outputs": [],
   "source": [
    "dict1={'Ten':10, 'Twenty':20, 'Thirty':30}\n",
    "dict2={'Thirty':30, 'Fourty':40, 'Fifty':50}"
   ]
  },
  {
   "cell_type": "code",
   "execution_count": 14,
   "id": "f0e3dacf",
   "metadata": {},
   "outputs": [
    {
     "name": "stdout",
     "output_type": "stream",
     "text": [
      "{'Thirty': 30, 'Fourty': 40, 'Fifty': 50}\n"
     ]
    }
   ],
   "source": [
    "dict3=dict2.copy()\n",
    "dict3.update(dict2)\n",
    "print(dict3)"
   ]
  },
  {
   "cell_type": "markdown",
   "id": "839d69dc",
   "metadata": {},
   "source": [
    "Ex-3 Initialize dictionary with default values"
   ]
  },
  {
   "cell_type": "code",
   "execution_count": 15,
   "id": "063601e9",
   "metadata": {},
   "outputs": [],
   "source": [
    "employees=['Kelly', 'Emma']\n",
    "defaults={\"designation\":'Developer', \"salary\":8000}"
   ]
  },
  {
   "cell_type": "code",
   "execution_count": 16,
   "id": "8c41e08f",
   "metadata": {},
   "outputs": [
    {
     "name": "stdout",
     "output_type": "stream",
     "text": [
      "{'Kelly': {'designation': 'Developer', 'salary': 8000}, 'Emma': {'designation': 'Developer', 'salary': 8000}}\n"
     ]
    }
   ],
   "source": [
    "res = dict.fromkeys(employees,defaults)\n",
    "print(res)"
   ]
  },
  {
   "cell_type": "code",
   "execution_count": 21,
   "id": "03f961c6",
   "metadata": {},
   "outputs": [
    {
     "name": "stdout",
     "output_type": "stream",
     "text": [
      "{'designation': 'Developer', 'salary': 8000}\n"
     ]
    }
   ],
   "source": [
    "print(res[\"Kelly\"])"
   ]
  },
  {
   "cell_type": "markdown",
   "id": "853e1487",
   "metadata": {},
   "source": [
    "Ex-4 Create a dictionary by extracting the keys from a given dictionary"
   ]
  },
  {
   "cell_type": "code",
   "execution_count": 23,
   "id": "61095280",
   "metadata": {},
   "outputs": [],
   "source": [
    "sample_dict={\"name\":\"kelly\", \"age\":25, \"salary\":8000,\"city\":\"New york\"}"
   ]
  },
  {
   "cell_type": "code",
   "execution_count": 25,
   "id": "86f3fade",
   "metadata": {},
   "outputs": [
    {
     "name": "stdout",
     "output_type": "stream",
     "text": [
      "{'name': 'kelly', 'salary': 8000}\n"
     ]
    }
   ],
   "source": [
    "keys=[\"name\", \"salary\"]\n",
    "newDict={k:sample_dict[k]for k in keys}\n",
    "print(newDict)"
   ]
  },
  {
   "cell_type": "markdown",
   "id": "c4f984f1",
   "metadata": {},
   "source": [
    "Ex-5 Delete a list of keys from a dictionary"
   ]
  },
  {
   "cell_type": "code",
   "execution_count": 12,
   "id": "d28caf2e",
   "metadata": {},
   "outputs": [
    {
     "name": "stdout",
     "output_type": "stream",
     "text": [
      "{'age': 25, 'salary': 8000, 'city': 'New york'}\n",
      "{'age': 25, 'city': 'New york'}\n"
     ]
    }
   ],
   "source": [
    "sample_dict={\"name\":\"kelly\", \"age\":25, \"salary\":8000,\"city\":\"New york\"}\n",
    "keys=[\"name\", \"salary\"]\n",
    "for k in keys:\n",
    "    sample_dict.pop(k)\n",
    "    print(sample_dict)"
   ]
  },
  {
   "cell_type": "markdown",
   "id": "2e9bdf16",
   "metadata": {},
   "source": [
    "Ex-6 Check if a value exists in a dictionary"
   ]
  },
  {
   "cell_type": "code",
   "execution_count": 14,
   "id": "8418cf52",
   "metadata": {},
   "outputs": [
    {
     "name": "stdout",
     "output_type": "stream",
     "text": [
      "200 present in a dict\n"
     ]
    }
   ],
   "source": [
    "sample_dict = {'a': 100, 'b': 200, 'c': 300}\n",
    "if 200 in sample_dict.values():\n",
    "    print('200 present in a dict')"
   ]
  },
  {
   "cell_type": "markdown",
   "id": "c9a90c78",
   "metadata": {},
   "source": [
    "Ex-7 Rename key of a dictionary"
   ]
  },
  {
   "cell_type": "code",
   "execution_count": 15,
   "id": "9bb3d89b",
   "metadata": {},
   "outputs": [
    {
     "name": "stdout",
     "output_type": "stream",
     "text": [
      "{'name': 'kelly', 'age': 25, 'salary': 8000, 'location': 'New york'}\n"
     ]
    }
   ],
   "source": [
    "sample_dict={\"name\":\"kelly\", \"age\":25, \"salary\":8000,\"city\":\"New york\"}\n",
    "sample_dict['location'] = sample_dict.pop('city')\n",
    "print(sample_dict)"
   ]
  },
  {
   "cell_type": "markdown",
   "id": "f07f3416",
   "metadata": {},
   "source": [
    "Ex-8 Change value of a key in a nested dictionary"
   ]
  },
  {
   "cell_type": "code",
   "execution_count": 17,
   "id": "b1583b41",
   "metadata": {},
   "outputs": [
    {
     "name": "stdout",
     "output_type": "stream",
     "text": [
      "{'emp1': {'name': 'Jhon', 'salary': 7500}, 'emp2': {'name': 'Emma', 'salary': 8000}, 'emp3': {'name': 'Brad', 'salary': 8500}}\n"
     ]
    }
   ],
   "source": [
    "sample_dict = {'emp1': {'name': 'Jhon', 'salary': 7500}, 'emp2': {'name': 'Emma', 'salary': 8000}, 'emp3': {'name': 'Brad', 'salary': 500}}\n",
    "sample_dict['emp3']['salary'] = 8500\n",
    "print(sample_dict)"
   ]
  }
 ],
 "metadata": {
  "kernelspec": {
   "display_name": "Python 3 (ipykernel)",
   "language": "python",
   "name": "python3"
  },
  "language_info": {
   "codemirror_mode": {
    "name": "ipython",
    "version": 3
   },
   "file_extension": ".py",
   "mimetype": "text/x-python",
   "name": "python",
   "nbconvert_exporter": "python",
   "pygments_lexer": "ipython3",
   "version": "3.9.12"
  }
 },
 "nbformat": 4,
 "nbformat_minor": 5
}
