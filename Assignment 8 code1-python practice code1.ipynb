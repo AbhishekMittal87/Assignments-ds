{
 "cells": [
  {
   "cell_type": "markdown",
   "id": "332dce77",
   "metadata": {},
   "source": [
    "# PYTHON BASIC PRACTICE CODES -I"
   ]
  },
  {
   "cell_type": "markdown",
   "id": "17a45f45",
   "metadata": {},
   "source": [
    "#1 Python Program to Find the Square Root."
   ]
  },
  {
   "cell_type": "code",
   "execution_count": 1,
   "id": "5dbe3d04",
   "metadata": {},
   "outputs": [
    {
     "name": "stdout",
     "output_type": "stream",
     "text": [
      "Enter a number: 10\n",
      "The square root of 10.000 is 3.162\n"
     ]
    }
   ],
   "source": [
    "num = float(input('Enter a number: '))\n",
    "num_sqrt = num ** 0.5\n",
    "print('The square root of %0.3f is %0.3f'%(num ,num_sqrt))"
   ]
  },
  {
   "cell_type": "markdown",
   "id": "fee02f10",
   "metadata": {},
   "source": [
    "#2 Python Program to Add Two Numbers."
   ]
  },
  {
   "cell_type": "code",
   "execution_count": 2,
   "id": "60919ca5",
   "metadata": {},
   "outputs": [
    {
     "name": "stdout",
     "output_type": "stream",
     "text": [
      "The sum of 1.5 and 6.3 is 7.8\n"
     ]
    }
   ],
   "source": [
    "num1 = 1.5\n",
    "num2 = 6.3\n",
    "# Add two numbers\n",
    "sum = num1 + num2\n",
    "# Display the sum\n",
    "print('The sum of {0} and {1} is {2}'.format(num1, num2, sum))"
   ]
  },
  {
   "cell_type": "markdown",
   "id": "fd199138",
   "metadata": {},
   "source": [
    "#3 Python Program to Calculate the Area of a Triangle"
   ]
  },
  {
   "cell_type": "code",
   "execution_count": 4,
   "id": "92d11fcc",
   "metadata": {},
   "outputs": [
    {
     "name": "stdout",
     "output_type": "stream",
     "text": [
      "Enter first side: 12\n",
      "Enter second side: 14\n",
      "Enter third side: 16\n",
      "The area of the triangle is 81.33\n"
     ]
    }
   ],
   "source": [
    "a = float(input('Enter first side: '))\n",
    "b = float(input('Enter second side: '))\n",
    "c = float(input('Enter third side: '))\n",
    "# calculate the semi-perimeter\n",
    "s = (a + b + c) / 2\n",
    "# calculate the area\n",
    "area = (s*(s-a)*(s-b)*(s-c)) ** 0.5\n",
    "print('The area of the triangle is %0.2f' %area)"
   ]
  },
  {
   "cell_type": "markdown",
   "id": "3dd3f603",
   "metadata": {},
   "source": [
    "#4 Python Program to Swap Two Variables"
   ]
  },
  {
   "cell_type": "code",
   "execution_count": 5,
   "id": "cdf7fec3",
   "metadata": {},
   "outputs": [
    {
     "name": "stdout",
     "output_type": "stream",
     "text": [
      "Enter value of x: 50\n",
      "Enter value of y: 60\n",
      "The value of x after swapping: 60\n",
      "The value of y after swapping: 50\n"
     ]
    }
   ],
   "source": [
    "x = input('Enter value of x: ')\n",
    "y = input('Enter value of y: ')\n",
    "# create a temporary variable and swap the values\n",
    "temp = x\n",
    "x = y\n",
    "y = temp\n",
    "print('The value of x after swapping: {}'.format(x))\n",
    "print('The value of y after swapping: {}'.format(y))"
   ]
  },
  {
   "cell_type": "markdown",
   "id": "ef412103",
   "metadata": {},
   "source": [
    "#5 Python Program to Convert Kilometers to Miles"
   ]
  },
  {
   "cell_type": "code",
   "execution_count": 6,
   "id": "fbd3693f",
   "metadata": {},
   "outputs": [
    {
     "name": "stdout",
     "output_type": "stream",
     "text": [
      "Enter value in kilometers: 200\n",
      "200.00 kilometers is equal to 124.27 miles\n"
     ]
    }
   ],
   "source": [
    "kilometers = float(input(\"Enter value in kilometers: \"))\n",
    "# conversion factor\n",
    "conv_fac = 0.621371\n",
    "# calculate miles\n",
    "miles = kilometers * conv_fac\n",
    "print('%0.2f kilometers is equal to %0.2f miles' %(kilometers,miles))"
   ]
  },
  {
   "cell_type": "markdown",
   "id": "f5445e98",
   "metadata": {},
   "source": [
    "#6 Python Program to Convert Celsius To Fahrenheit"
   ]
  },
  {
   "cell_type": "code",
   "execution_count": 7,
   "id": "c3a1bfae",
   "metadata": {},
   "outputs": [
    {
     "name": "stdout",
     "output_type": "stream",
     "text": [
      "37.5 degree Celsius is equal to 99.5 degree Fahrenheit\n"
     ]
    }
   ],
   "source": [
    "# change this value for a different result\n",
    "celsius = 37.5\n",
    "# calculate fahrenheit\n",
    "fahrenheit = (celsius * 1.8) + 32\n",
    "print('%0.1f degree Celsius is equal to %0.1f degree Fahrenheit' %(celsius,fahrenheit))"
   ]
  },
  {
   "cell_type": "markdown",
   "id": "fbfe7100",
   "metadata": {},
   "source": [
    "# LIST"
   ]
  },
  {
   "cell_type": "markdown",
   "id": "caa9b189",
   "metadata": {},
   "source": [
    "#1  Python program to interchange first and last elements in a list."
   ]
  },
  {
   "cell_type": "code",
   "execution_count": 12,
   "id": "8bb7d533",
   "metadata": {},
   "outputs": [
    {
     "name": "stdout",
     "output_type": "stream",
     "text": [
      "enter the number of elements you want in list5\n",
      "Enter value here: 25\n",
      "Enter value here: 30\n",
      "Enter value here: 65\n",
      "Enter value here: 5\n",
      "Enter value here: 4\n",
      "['4', '30', '65', '5', '25']\n"
     ]
    }
   ],
   "source": [
    "newList = []\n",
    "element = int(input(\"enter the number of elements you want in list\"))\n",
    "for i in range(0,element):\n",
    "    list_element = input(\"Enter value here: \")\n",
    "    newList.append(list_element)\n",
    "newList[0],newList[-1] = newList[-1], newList[0]\n",
    "print(newList)"
   ]
  },
  {
   "cell_type": "markdown",
   "id": "2db321d3",
   "metadata": {},
   "source": [
    "#2 Concatenate two lists index-wise"
   ]
  },
  {
   "cell_type": "code",
   "execution_count": 13,
   "id": "103feda8",
   "metadata": {},
   "outputs": [
    {
     "name": "stdout",
     "output_type": "stream",
     "text": [
      "['My', 'name', 'is', 'Kelly']\n"
     ]
    }
   ],
   "source": [
    "list1 = [\"M\", \"na\", \"i\", \"Ke\"] \n",
    "list2 = [\"y\", \"me\", \"s\", \"lly\"]\n",
    "list3 = [i + j for i, j in zip(list1, list2)]\n",
    "print(list3)"
   ]
  },
  {
   "cell_type": "markdown",
   "id": "84222122",
   "metadata": {},
   "source": [
    "#3 Given a Python list. Turn every item of a list into its square"
   ]
  },
  {
   "cell_type": "code",
   "execution_count": 14,
   "id": "e8d5a6b7",
   "metadata": {},
   "outputs": [
    {
     "name": "stdout",
     "output_type": "stream",
     "text": [
      "[1, 4, 9, 16, 25, 36, 49]\n"
     ]
    }
   ],
   "source": [
    "aList = [1, 2, 3, 4, 5, 6, 7]\n",
    "aList = [1, 2, 3, 4, 5, 6, 7]\n",
    "aList =  [x * x for x in aList]\n",
    "print(aList)"
   ]
  },
  {
   "cell_type": "markdown",
   "id": "ecdcbd69",
   "metadata": {},
   "source": [
    "#4 Concatenate two lists in the following order"
   ]
  },
  {
   "cell_type": "code",
   "execution_count": 15,
   "id": "fe9dfc03",
   "metadata": {},
   "outputs": [
    {
     "name": "stdout",
     "output_type": "stream",
     "text": [
      "['Hello Dear', 'Hello Sir', 'take Dear', 'take Sir']\n"
     ]
    }
   ],
   "source": [
    "list1 = [\"Hello \", \"take \"]\n",
    "list2 = [\"Dear\", \"Sir\"]\n",
    "resList = [x+y for x in list1 for y in list2]\n",
    "print(resList)"
   ]
  },
  {
   "cell_type": "markdown",
   "id": "0d3594fa",
   "metadata": {},
   "source": [
    "#5  Remove empty strings from the list of strings"
   ]
  },
  {
   "cell_type": "code",
   "execution_count": 16,
   "id": "c638f9f5",
   "metadata": {},
   "outputs": [
    {
     "name": "stdout",
     "output_type": "stream",
     "text": [
      "['Mike', 'Emma', 'Kelly', 'Brad']\n"
     ]
    }
   ],
   "source": [
    "list1 = [\"Mike\", \"\", \"Emma\", \"Kelly\", \"\", \"Brad\"]\n",
    "resList = list(filter(None, list1))\n",
    "print(resList)"
   ]
  },
  {
   "cell_type": "markdown",
   "id": "ca93fc3d",
   "metadata": {},
   "source": [
    "# Dict"
   ]
  },
  {
   "cell_type": "markdown",
   "id": "fa28d594",
   "metadata": {},
   "source": [
    "#1 Below are the two lists convert it into the dictionary"
   ]
  },
  {
   "cell_type": "code",
   "execution_count": 17,
   "id": "04d58473",
   "metadata": {},
   "outputs": [
    {
     "name": "stdout",
     "output_type": "stream",
     "text": [
      "{'Ten': 10, 'Twenty': 20, 'Thirty': 30}\n"
     ]
    }
   ],
   "source": [
    "keys = ['Ten', 'Twenty', 'Thirty']\n",
    "values = [10, 20, 30]\n",
    "sampleDict = dict(zip(keys, values))\n",
    "print(sampleDict)"
   ]
  },
  {
   "cell_type": "markdown",
   "id": "ef350e23",
   "metadata": {},
   "source": [
    "#2 Merge following two Python dictionaries into one"
   ]
  },
  {
   "cell_type": "code",
   "execution_count": 18,
   "id": "f916a73a",
   "metadata": {},
   "outputs": [
    {
     "name": "stdout",
     "output_type": "stream",
     "text": [
      "{'Ten': 10, 'Twenty': 20, 'Thirty': 30, 'Fourty': 40, 'Fifty': 50}\n"
     ]
    }
   ],
   "source": [
    "dict1 = {'Ten': 10, 'Twenty': 20, 'Thirty': 30}\n",
    "dict2 = {'Thirty': 30, 'Fourty': 40, 'Fifty': 50}\n",
    "dict3 = {**dict1, **dict2}\n",
    "print(dict3)"
   ]
  },
  {
   "cell_type": "markdown",
   "id": "abad73ba",
   "metadata": {},
   "source": [
    "#3 Create a new dictionary by extracting the following keys from a given dictionary"
   ]
  },
  {
   "cell_type": "code",
   "execution_count": 21,
   "id": "01b06a53",
   "metadata": {},
   "outputs": [
    {
     "name": "stdout",
     "output_type": "stream",
     "text": [
      "{'name': 'Kelly', 'salary': 8000}\n"
     ]
    }
   ],
   "source": [
    "sampleDict = {  \"name\": \"Kelly\",  \"age\":25,  \"salary\": 8000,  \"city\": \"New york\"}\n",
    "keys = [\"name\", \"salary\"]\n",
    "newDict = {k: sampleDict[k] for k in keys}\n",
    "print(newDict)"
   ]
  },
  {
   "cell_type": "markdown",
   "id": "a7a0ab37",
   "metadata": {},
   "source": [
    "#4 Check if a value 200 exists in a dictionary"
   ]
  },
  {
   "cell_type": "code",
   "execution_count": 22,
   "id": "3af3028b",
   "metadata": {},
   "outputs": [
    {
     "name": "stdout",
     "output_type": "stream",
     "text": [
      "True\n"
     ]
    }
   ],
   "source": [
    "sampleDict = {'a': 100, 'b': 200, 'c': 300}\n",
    "print(200 in sampleDict.values())"
   ]
  },
  {
   "cell_type": "markdown",
   "id": "82f090bd",
   "metadata": {},
   "source": [
    "#5 Rename key city to location in the following dictionary"
   ]
  },
  {
   "cell_type": "code",
   "execution_count": 24,
   "id": "a50d6e6f",
   "metadata": {},
   "outputs": [
    {
     "name": "stdout",
     "output_type": "stream",
     "text": [
      "{'name': 'Kelly', 'age': 25, 'salary': 8000, 'location': 'New york'}\n"
     ]
    }
   ],
   "source": [
    "sampleDict = {  \"name\": \"Kelly\",  \"age\":25,  \"salary\": 8000,  \"city\": \"New york\"}\n",
    "sampleDict['location'] = sampleDict.pop('city')\n",
    "print(sampleDict)"
   ]
  },
  {
   "cell_type": "markdown",
   "id": "c6a1b7a6",
   "metadata": {},
   "source": [
    "#6 Get the key corresponding to the minimum value from the following dictionary"
   ]
  },
  {
   "cell_type": "code",
   "execution_count": 25,
   "id": "e79d96f8",
   "metadata": {},
   "outputs": [
    {
     "name": "stdout",
     "output_type": "stream",
     "text": [
      "Math\n"
     ]
    }
   ],
   "source": [
    "sampleDict = {  'Physics': 82,  'Math': 65,  'history': 75}\n",
    "print(min(sampleDict, key=sampleDict.get))"
   ]
  },
  {
   "cell_type": "markdown",
   "id": "452171ad",
   "metadata": {},
   "source": [
    "# LOOPS"
   ]
  },
  {
   "cell_type": "markdown",
   "id": "1f8b018d",
   "metadata": {},
   "source": [
    "#1 Python program to print only the odd numbers in given range."
   ]
  },
  {
   "cell_type": "code",
   "execution_count": 26,
   "id": "33e26032",
   "metadata": {},
   "outputs": [
    {
     "name": "stdout",
     "output_type": "stream",
     "text": [
      "Enter the smaller value5\n",
      "Enter the larger value10\n",
      "5, 7, 9, "
     ]
    }
   ],
   "source": [
    "num1 = int(input(\"Enter the smaller value\"))\n",
    "num2 = int(input(\"Enter the larger value\"))\n",
    "for i in range(num1, num2):\n",
    "    if i%2 == 0:\n",
    "        continue\n",
    "    else:\n",
    "        print(i, end  = \", \")"
   ]
  },
  {
   "cell_type": "markdown",
   "id": "96c6f485",
   "metadata": {},
   "source": [
    "#2  Write a python program that prints all the values which are odd and less than 500 from given list of numbers."
   ]
  },
  {
   "cell_type": "code",
   "execution_count": 27,
   "id": "3b921374",
   "metadata": {},
   "outputs": [
    {
     "name": "stdout",
     "output_type": "stream",
     "text": [
      "69, 319, 485, 83, 165, 141, 263, 219, 105, 47, 375, 345, 399, 219, 237, 217, 67, 81, 379, 445, 451, 93, "
     ]
    }
   ],
   "source": [
    "numbers = [\n",
    "    951, 402, 984, 651, 360, 69, 408, 319, 601, 485, 980, 507, 725, 547, 544,\n",
    "    615, 83, 165, 141, 501, 263, 617, 865, 575, 219, 390, 984, 592, 236, 105, 942, 941,\n",
    "    386, 462, 47, 418, 907, 344, 236, 375, 823, 566, 597, 978, 328, 615, 953, 345,\n",
    "    399, 162, 758, 219, 918, 237, 412, 566, 826, 248, 866, 950, 626, 949, 687, 217,\n",
    "    815, 67, 104, 58, 512, 24, 892, 894, 767, 553, 81, 379, 843, 831, 445, 742, 717,\n",
    "    958, 609, 842, 451, 688, 753, 854, 685, 93, 857, 440, 380, 126, 721, 328, 753, 470,\n",
    "    743, 527\n",
    "]\n",
    "for i in numbers:\n",
    "    if i > 500 or i % 2 == 0:\n",
    "        continue\n",
    "    else:\n",
    "        print(i, end = \", \")"
   ]
  },
  {
   "cell_type": "markdown",
   "id": "d9f2b494",
   "metadata": {},
   "source": [
    "#3 Find all the numbers from given list which are factor of both 3, 7 ."
   ]
  },
  {
   "cell_type": "code",
   "execution_count": 28,
   "id": "bd151fe4",
   "metadata": {},
   "outputs": [
    {
     "name": "stdout",
     "output_type": "stream",
     "text": [
      "651, 105, 462, 399, 609, 126, "
     ]
    }
   ],
   "source": [
    "for i in numbers:\n",
    "    if i % 3 == 0 and i  % 7 == 0:\n",
    "        print(i, end = \", \")"
   ]
  },
  {
   "cell_type": "markdown",
   "id": "92437ba8",
   "metadata": {},
   "source": [
    "#4 FInd the largest number from the given list."
   ]
  },
  {
   "cell_type": "code",
   "execution_count": 34,
   "id": "2143dde5",
   "metadata": {},
   "outputs": [],
   "source": [
    "max = 0\n",
    "for i in numbers:\n",
    "    if i > max:\n",
    "        max = i"
   ]
  },
  {
   "cell_type": "markdown",
   "id": "b256a96c",
   "metadata": {},
   "source": [
    "#5 print the squares of odd numbers and cube roots of even number from the list above."
   ]
  },
  {
   "cell_type": "code",
   "execution_count": 35,
   "id": "14f1d700",
   "metadata": {},
   "outputs": [
    {
     "name": "stdout",
     "output_type": "stream",
     "text": [
      "Square : 904401, Cube : 64964808, Cube : 952763904, Square : 423801, Cube : 46656000, Square : 4761, Cube : 67917312, Square : 101761, Square : 361201, Square : 235225, Cube : 941192000, Square : 257049, Square : 525625, Square : 299209, Cube : 160989184, Square : 378225, Square : 6889, Square : 27225, Square : 19881, Square : 251001, Square : 69169, Square : 380689, Square : 748225, Square : 330625, Square : 47961, Cube : 59319000, Cube : 952763904, Cube : 207474688, Cube : 13144256, Square : 11025, Cube : 835896888, Square : 885481, Cube : 57512456, Cube : 98611128, Square : 2209, Cube : 73034632, Square : 822649, Cube : 40707584, Cube : 13144256, Square : 140625, Square : 677329, Cube : 181321496, Square : 356409, Cube : 935441352, Cube : 35287552, Square : 378225, Square : 908209, Square : 119025, Square : 159201, Cube : 4251528, Cube : 435519512, Square : 47961, Cube : 773620632, Square : 56169, Cube : 69934528, Cube : 181321496, Cube : 563559976, Cube : 15252992, Cube : 649461896, Cube : 857375000, Cube : 245314376, Square : 900601, Square : 471969, Square : 47089, Square : 664225, Square : 4489, Cube : 1124864, Cube : 195112, Cube : 134217728, Cube : 13824, Cube : 709732288, Cube : 714516984, Square : 588289, Square : 305809, Square : 6561, Square : 143641, Square : 710649, Square : 690561, Square : 198025, Cube : 408518488, Square : 514089, Cube : 879217912, Square : 370881, Cube : 596947688, Square : 203401, Cube : 325660672, Square : 567009, Cube : 622835864, Square : 469225, Square : 8649, Square : 734449, Cube : 85184000, Cube : 54872000, Cube : 2000376, Square : 519841, Cube : 35287552, Square : 567009, Cube : 103823000, Square : 552049, Square : 277729, "
     ]
    }
   ],
   "source": [
    "for i in numbers:\n",
    "    if i % 2 == 0:\n",
    "        print(\"Cube :\", i**3, end = \", \")\n",
    "    else:\n",
    "        print(\"Square :\",i**2, end = \", \")"
   ]
  },
  {
   "cell_type": "markdown",
   "id": "e3adc837",
   "metadata": {},
   "source": [
    "#6 Print First 10 natural numbers using while loop"
   ]
  },
  {
   "cell_type": "code",
   "execution_count": 36,
   "id": "59d8280a",
   "metadata": {},
   "outputs": [
    {
     "name": "stdout",
     "output_type": "stream",
     "text": [
      "0\n",
      "1\n",
      "2\n",
      "3\n",
      "4\n",
      "5\n",
      "6\n",
      "7\n",
      "8\n",
      "9\n",
      "10\n"
     ]
    }
   ],
   "source": [
    "i = 0\n",
    "while i <= 10:\n",
    "    print(i)\n",
    "    i += 1"
   ]
  },
  {
   "cell_type": "markdown",
   "id": "6d8eff70",
   "metadata": {},
   "source": [
    "#7 Print the following pattern"
   ]
  },
  {
   "cell_type": "code",
   "execution_count": 39,
   "id": "d87b238d",
   "metadata": {},
   "outputs": [
    {
     "name": "stdout",
     "output_type": "stream",
     "text": [
      "Second Number Pattern \n",
      "1 \n",
      "1 2 \n",
      "1 2 3 \n",
      "1 2 3 4 \n",
      "1 2 3 4 5 \n",
      "1 2 3 4 5 6 \n"
     ]
    }
   ],
   "source": [
    "print(\"Second Number Pattern \")\n",
    "lastNumber = 7\n",
    "for row in range(1, lastNumber):\n",
    "    for column in range(1, row + 1):\n",
    "        print(column, end=' ')\n",
    "    print(\"\")"
   ]
  },
  {
   "cell_type": "markdown",
   "id": "4f7b75dc",
   "metadata": {},
   "source": [
    "#8 Python Program to find factorial of number."
   ]
  },
  {
   "cell_type": "code",
   "execution_count": 44,
   "id": "754ce23a",
   "metadata": {},
   "outputs": [
    {
     "name": "stdout",
     "output_type": "stream",
     "text": [
      "Enter a number: 5\n",
      "The factorial of 5 is 120\n"
     ]
    }
   ],
   "source": [
    "num = int(input(\"Enter a number: \"))\n",
    "factorial = 1\n",
    "# check if the number is negative, positive or zero\n",
    "if num < 0:\n",
    "    print(\"Sorry, factorial does not exist for negative numbers\")\n",
    "elif num == 0:\n",
    "    print(\"The factorial of 0 is 1\")\n",
    "else:\n",
    "    for i in range(1,num + 1):\n",
    "        factorial = factorial*i\n",
    "    print(\"The factorial of\",num,\"is\",factorial)"
   ]
  },
  {
   "cell_type": "markdown",
   "id": "c24f75c7",
   "metadata": {},
   "source": [
    "# IF-ELSE CONSTRUCTS"
   ]
  },
  {
   "cell_type": "markdown",
   "id": "4a5155b5",
   "metadata": {},
   "source": [
    "#1 Python Program to Check if a Number is Odd or Even?"
   ]
  },
  {
   "cell_type": "code",
   "execution_count": 45,
   "id": "45cc9c28",
   "metadata": {},
   "outputs": [
    {
     "name": "stdout",
     "output_type": "stream",
     "text": [
      "Enter a number: 5\n",
      "5 is Odd\n"
     ]
    }
   ],
   "source": [
    "num = int(input(\"Enter a number: \"))\n",
    "if (num % 2) == 0:\n",
    "    print(\"{0} is Even\".format(num))\n",
    "else:\n",
    "    print(\"{0} is Odd\".format(num))"
   ]
  },
  {
   "cell_type": "markdown",
   "id": "bfc25359",
   "metadata": {},
   "source": [
    "#2 Python Program to Check if a Number is Positive, Negative or 0?"
   ]
  },
  {
   "cell_type": "code",
   "execution_count": 48,
   "id": "8cfe3e60",
   "metadata": {},
   "outputs": [
    {
     "name": "stdout",
     "output_type": "stream",
     "text": [
      "Enter a number: -1\n",
      "Negative number\n"
     ]
    }
   ],
   "source": [
    "num = float(input(\"Enter a number: \"))\n",
    "if num > 0:\n",
    "    print(\"Positive number\")\n",
    "elif num == 0:\n",
    "    print(\"Zero\")\n",
    "else:\n",
    "    print(\"Negative number\")"
   ]
  },
  {
   "cell_type": "markdown",
   "id": "3397c089",
   "metadata": {},
   "source": [
    "#3 Python Program to Check Leap Year?"
   ]
  },
  {
   "cell_type": "code",
   "execution_count": 51,
   "id": "85dedfbe",
   "metadata": {},
   "outputs": [
    {
     "name": "stdout",
     "output_type": "stream",
     "text": [
      "Enter a year: 1986\n",
      "1986 is not a leap year\n"
     ]
    }
   ],
   "source": [
    "year = int(input(\"Enter a year: \"))\n",
    "if (year % 4) == 0:\n",
    "    if (year % 100) == 0:\n",
    "        if (year % 400) == 0:\n",
    "            print(\"{0} is a leap year\".format(year))\n",
    "        else:\n",
    "            print(\"{0} is not a leap year\".format(year))\n",
    "    else:\n",
    "        print(\"{0} is a leap year\".format(year))\n",
    "else:\n",
    "    print(\"{0} is not a leap year\".format(year))"
   ]
  },
  {
   "cell_type": "markdown",
   "id": "bd0b7ed3",
   "metadata": {},
   "source": [
    "#4 Python Program to Find the Largest Among Three Numbers"
   ]
  },
  {
   "cell_type": "code",
   "execution_count": 52,
   "id": "3397dbcd",
   "metadata": {},
   "outputs": [
    {
     "name": "stdout",
     "output_type": "stream",
     "text": [
      "Enter first number: 5\n",
      "Enter second number: 6\n",
      "Enter third number: 7\n",
      "The largest number is 7.0\n"
     ]
    }
   ],
   "source": [
    "num1 = float(input(\"Enter first number: \"))\n",
    "num2 = float(input(\"Enter second number: \"))\n",
    "num3 = float(input(\"Enter third number: \"))\n",
    "if (num1 >= num2) and (num1 >= num3):\n",
    "    largest = num1\n",
    "elif (num2 >= num1) and (num2 >= num3):\n",
    "    largest = num2\n",
    "else:\n",
    "    largest = num3\n",
    "print(\"The largest number is\", largest)"
   ]
  },
  {
   "cell_type": "markdown",
   "id": "541f1aa1",
   "metadata": {},
   "source": [
    "#5 Python Program to Check if a person can vote or not?"
   ]
  },
  {
   "cell_type": "code",
   "execution_count": 56,
   "id": "05d2dc1f",
   "metadata": {},
   "outputs": [
    {
     "name": "stdout",
     "output_type": "stream",
     "text": [
      "Enter your age: 34\n",
      "You can vote\n"
     ]
    }
   ],
   "source": [
    "age = int(input(\"Enter your age: \"))\n",
    "if age > 18:\n",
    "    print(\"You can vote\")\n",
    "else:\n",
    "    print(\"You can not vote\")"
   ]
  },
  {
   "cell_type": "markdown",
   "id": "2ec020ce",
   "metadata": {},
   "source": [
    "# FUNCTIONS"
   ]
  },
  {
   "cell_type": "markdown",
   "id": "a88e4b2f",
   "metadata": {},
   "source": [
    "#1 Python Program to Find Numbers Divisible by Another Number"
   ]
  },
  {
   "cell_type": "code",
   "execution_count": 58,
   "id": "2173165a",
   "metadata": {},
   "outputs": [
    {
     "name": "stdout",
     "output_type": "stream",
     "text": [
      "Enter first number: 12\n",
      "Enter Second number: 14\n",
      "Enter the number you want to check: 3\n",
      "12,14 are not divisible by 3\n"
     ]
    }
   ],
   "source": [
    "def divisiblity():\n",
    "    x = int(input(\"Enter first number: \"))\n",
    "    y = int(input(\"Enter Second number: \"))\n",
    "    z = int(input(\"Enter the number you want to check: \"))\n",
    "    if x%z == 0 and y %z == 0:\n",
    "        print(f\"{x},{y} are divisible by {z}\")\n",
    "    else:\n",
    "        print(f\"{x},{y} are not divisible by {z}\")\n",
    "divisiblity()"
   ]
  },
  {
   "cell_type": "markdown",
   "id": "ae310ed0",
   "metadata": {},
   "source": [
    "#2 Python program to check if a given number is prime or not."
   ]
  },
  {
   "cell_type": "code",
   "execution_count": 71,
   "id": "1b342eec",
   "metadata": {},
   "outputs": [],
   "source": [
    "def prime(num):\n",
    "    # prime numbers are greater than 1\n",
    "    if num > 1:\n",
    "       # check for factors\n",
    "        for i in range(2,num):\n",
    "            if (num % i) == 0:\n",
    "                print(num,\"is not a prime number\")\n",
    "                print(i,\"times\",num//i,\"is\",num)\n",
    "                break\n",
    "        else:\n",
    "            print(num,\"is a prime number\")\n",
    "\n",
    "    # if input number is less than\n",
    "    # or equal to 1, it is not prime\n",
    "    else:\n",
    "        print(num,\"is not a prime number\")"
   ]
  },
  {
   "cell_type": "markdown",
   "id": "1e6fa99c",
   "metadata": {},
   "source": [
    "#3 Write a python function to find factorial of number."
   ]
  },
  {
   "cell_type": "code",
   "execution_count": 73,
   "id": "c0afd8a6",
   "metadata": {},
   "outputs": [],
   "source": [
    "def Factorial():\n",
    "    num = int(input(\"Enter a number: \"))\n",
    "    factorial = 1\n",
    "    # check if the number is negative, positive or zero\n",
    "    if num < 0:\n",
    "        print(\"Sorry, factorial does not exist for negative numbers\")\n",
    "    elif num == 0:\n",
    "        print(\"The factorial of 0 is 1\")\n",
    "    else:\n",
    "        for i in range(1,num + 1):\n",
    "            factorial = factorial*i\n",
    "        print(\"The factorial of\",num,\"is\",factorial)"
   ]
  },
  {
   "cell_type": "markdown",
   "id": "31a9fabd",
   "metadata": {},
   "source": [
    "#4 Python Program to Find HCF"
   ]
  },
  {
   "cell_type": "code",
   "execution_count": 74,
   "id": "741cdc6b",
   "metadata": {},
   "outputs": [],
   "source": [
    "def compute_hcf(x, y):\n",
    "    if x > y:\n",
    "        smaller = y\n",
    "    else:\n",
    "        smaller = x\n",
    "    for i in range(1, smaller+1):\n",
    "        if((x % i == 0) and (y % i == 0)):\n",
    "            hcf = i \n",
    "    return hcf"
   ]
  },
  {
   "cell_type": "markdown",
   "id": "38959430",
   "metadata": {},
   "source": [
    "#5 Python Program to Find LCM"
   ]
  },
  {
   "cell_type": "code",
   "execution_count": 75,
   "id": "7fc06bec",
   "metadata": {},
   "outputs": [],
   "source": [
    "def compute_lcm(x, y):\n",
    "    if x > y:\n",
    "        greater = x\n",
    "    else:\n",
    "        greater = y\n",
    "    while(True):\n",
    "        if((greater % x == 0) and (greater % y == 0)):\n",
    "            lcm = greater\n",
    "            break\n",
    "        greater += 1\n",
    "    return lcm"
   ]
  },
  {
   "cell_type": "markdown",
   "id": "cdaf1030",
   "metadata": {},
   "source": [
    "#6 Write a function func1() such that it can accept a variable length of  argument and print all arguments value\n",
    "func1(20, 40, 60)\n",
    "func1(80, 100)"
   ]
  },
  {
   "cell_type": "code",
   "execution_count": 77,
   "id": "0bc263b7",
   "metadata": {},
   "outputs": [],
   "source": [
    "func1=(20, 40, 60)\n",
    "func1=(80, 100)\n",
    "\n",
    "def func1(*args):\n",
    "    for i in args:\n",
    "        print(i)"
   ]
  },
  {
   "cell_type": "markdown",
   "id": "90bf3e8d",
   "metadata": {},
   "source": [
    "#7 Create an inner function to calculate the addition in the following way"
   ]
  },
  {
   "cell_type": "code",
   "execution_count": 78,
   "id": "e861549a",
   "metadata": {},
   "outputs": [
    {
     "name": "stdout",
     "output_type": "stream",
     "text": [
      "20\n"
     ]
    }
   ],
   "source": [
    "def outerFun(a, b):\n",
    "    square = a**2\n",
    "    def innerFun(a,b):\n",
    "        return a+b\n",
    "    add = innerFun(a, b)\n",
    "    return add+5\n",
    "\n",
    "result = outerFun(5, 10)\n",
    "print(result)"
   ]
  },
  {
   "cell_type": "markdown",
   "id": "889cb8c9",
   "metadata": {},
   "source": [
    "#8 Return the largest item from the given list"
   ]
  },
  {
   "cell_type": "code",
   "execution_count": 84,
   "id": "1536addd",
   "metadata": {},
   "outputs": [
    {
     "ename": "TypeError",
     "evalue": "'int' object is not callable",
     "output_type": "error",
     "traceback": [
      "\u001b[1;31m---------------------------------------------------------------------------\u001b[0m",
      "\u001b[1;31mTypeError\u001b[0m                                 Traceback (most recent call last)",
      "Input \u001b[1;32mIn [84]\u001b[0m, in \u001b[0;36m<cell line: 2>\u001b[1;34m()\u001b[0m\n\u001b[0;32m      1\u001b[0m aList \u001b[38;5;241m=\u001b[39m [\u001b[38;5;124m'\u001b[39m\u001b[38;5;124m4\u001b[39m\u001b[38;5;124m'\u001b[39m, \u001b[38;5;124m'\u001b[39m\u001b[38;5;124m6\u001b[39m\u001b[38;5;124m'\u001b[39m, \u001b[38;5;124m'\u001b[39m\u001b[38;5;124m8\u001b[39m\u001b[38;5;124m'\u001b[39m, \u001b[38;5;124m'\u001b[39m\u001b[38;5;124m24\u001b[39m\u001b[38;5;124m'\u001b[39m, \u001b[38;5;124m'\u001b[39m\u001b[38;5;124m12\u001b[39m\u001b[38;5;124m'\u001b[39m, \u001b[38;5;124m'\u001b[39m\u001b[38;5;124m2\u001b[39m\u001b[38;5;124m'\u001b[39m]\n\u001b[1;32m----> 2\u001b[0m \u001b[38;5;28mprint\u001b[39m(\u001b[38;5;28;43mmax\u001b[39;49m\u001b[43m(\u001b[49m\u001b[43maList\u001b[49m\u001b[43m)\u001b[49m)\n",
      "\u001b[1;31mTypeError\u001b[0m: 'int' object is not callable"
     ]
    }
   ],
   "source": [
    "aList = [4, 6, 8, 24, 12, 2]\n",
    "print(max(aList))"
   ]
  }
 ],
 "metadata": {
  "kernelspec": {
   "display_name": "Python 3 (ipykernel)",
   "language": "python",
   "name": "python3"
  },
  "language_info": {
   "codemirror_mode": {
    "name": "ipython",
    "version": 3
   },
   "file_extension": ".py",
   "mimetype": "text/x-python",
   "name": "python",
   "nbconvert_exporter": "python",
   "pygments_lexer": "ipython3",
   "version": "3.9.12"
  }
 },
 "nbformat": 4,
 "nbformat_minor": 5
}
