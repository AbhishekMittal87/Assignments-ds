{
 "cells": [
  {
   "cell_type": "code",
   "execution_count": 1,
   "id": "98604d7b",
   "metadata": {},
   "outputs": [],
   "source": [
    "def __init__(self, realport, imagport):\n",
    "    self.r = realport\n",
    "    self.i = imagport\n",
    "    x = complex(3.0, -4.5)\n",
    "    x.r\n",
    "    x.i"
   ]
  },
  {
   "cell_type": "code",
   "execution_count": null,
   "id": "87065cfb",
   "metadata": {},
   "outputs": [],
   "source": []
  }
 ],
 "metadata": {
  "kernelspec": {
   "display_name": "Python 3 (ipykernel)",
   "language": "python",
   "name": "python3"
  },
  "language_info": {
   "codemirror_mode": {
    "name": "ipython",
    "version": 3
   },
   "file_extension": ".py",
   "mimetype": "text/x-python",
   "name": "python",
   "nbconvert_exporter": "python",
   "pygments_lexer": "ipython3",
   "version": "3.9.12"
  }
 },
 "nbformat": 4,
 "nbformat_minor": 5
}
