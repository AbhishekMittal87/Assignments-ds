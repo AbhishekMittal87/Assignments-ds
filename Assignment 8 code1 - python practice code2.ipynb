{
 "cells": [
  {
   "cell_type": "markdown",
   "id": "1f5d20ba",
   "metadata": {},
   "source": [
    "#1 Python3 program to add two numbers "
   ]
  },
  {
   "cell_type": "code",
   "execution_count": 1,
   "id": "f14edd85",
   "metadata": {},
   "outputs": [
    {
     "name": "stdout",
     "output_type": "stream",
     "text": [
      "Sum of 15 and 12 is 27\n"
     ]
    }
   ],
   "source": [
    "num1 = 15\n",
    "num2 = 12\n",
    "# Adding two nos \n",
    "sum = num1 + num2 \n",
    "# printing values \n",
    "print(\"Sum of {0} and {1} is {2}\" .format(num1, num2, sum))"
   ]
  },
  {
   "cell_type": "markdown",
   "id": "85a19dc3",
   "metadata": {},
   "source": [
    "#2 Python3 program to add two numbers "
   ]
  },
  {
   "cell_type": "code",
   "execution_count": 2,
   "id": "4a1ea116",
   "metadata": {},
   "outputs": [
    {
     "name": "stdout",
     "output_type": "stream",
     "text": [
      "First number: 10\n",
      "\n",
      "Second number: 12\n",
      "The sum of 10 and 12 is 22.0\n"
     ]
    }
   ],
   "source": [
    "number1 = input(\"First number: \") \n",
    "number2 = input(\"\\nSecond number: \") \n",
    "# Adding two numbers \n",
    "# User might also enter float numbers \n",
    "sum = float(number1) + float(number2) \n",
    "# Display the sum \n",
    "# will print value in float \n",
    "print(\"The sum of {0} and {1} is {2}\" .format(number1, number2, sum))"
   ]
  },
  {
   "cell_type": "markdown",
   "id": "b48769cf",
   "metadata": {},
   "source": [
    "#3 Factorial of a non-negative integer, is multiplication of all integers smaller than or equal to n. For example factorial of 6 is 6*5*4*3*2*1 which is 720."
   ]
  },
  {
   "cell_type": "code",
   "execution_count": 10,
   "id": "676870f8",
   "metadata": {},
   "outputs": [
    {
     "name": "stdout",
     "output_type": "stream",
     "text": [
      "Factorial of 5 is 120\n"
     ]
    }
   ],
   "source": [
    "def factorial(n): \n",
    "# single line to find factorial \n",
    "    return 1 if (n==1 or n==0) else n * factorial(n - 1);\n",
    "\n",
    "# Driver Code \n",
    "num = 5; \n",
    "print(\"Factorial of\",num,\"is\", \n",
    "factorial(num)) "
   ]
  },
  {
   "cell_type": "markdown",
   "id": "6708ffd3",
   "metadata": {},
   "source": [
    "#4 Python3 program to find simple interest "
   ]
  },
  {
   "cell_type": "code",
   "execution_count": 11,
   "id": "108bd026",
   "metadata": {},
   "outputs": [
    {
     "name": "stdout",
     "output_type": "stream",
     "text": [
      "simple interest is 0.01\n"
     ]
    }
   ],
   "source": [
    "P = 1\n",
    "R = 1\n",
    "T = 1\n",
    "# Calculates simple interest \n",
    "SI = (P * R * T) / 100\n",
    "\n",
    "# Print the resultant value of SI \n",
    "print(\"simple interest is\", SI) "
   ]
  },
  {
   "cell_type": "markdown",
   "id": "8f31cf7a",
   "metadata": {},
   "source": [
    "#5 Python3 program to find compound "
   ]
  },
  {
   "cell_type": "code",
   "execution_count": 12,
   "id": "6e890855",
   "metadata": {},
   "outputs": [
    {
     "name": "stdout",
     "output_type": "stream",
     "text": [
      "Compound interest is 16288.946267774416\n"
     ]
    }
   ],
   "source": [
    "def compound_interest(principle, rate, time): \n",
    "# Calculates compound interest \n",
    "    CI = principle * (pow((1 + rate / 100), time)) \n",
    "    print(\"Compound interest is\", CI) \n",
    "# Driver Code \n",
    "compound_interest(10000, 10.25, 5) "
   ]
  },
  {
   "cell_type": "markdown",
   "id": "8f04ad0b",
   "metadata": {},
   "source": [
    "#6 Python program to find Area of a circle"
   ]
  },
  {
   "cell_type": "code",
   "execution_count": 14,
   "id": "c4297ee9",
   "metadata": {},
   "outputs": [
    {
     "name": "stdout",
     "output_type": "stream",
     "text": [
      "Area is 78.550000\n"
     ]
    }
   ],
   "source": [
    "def findArea(r): \n",
    "    PI = 3.142\n",
    "    return PI * (r*r); \n",
    "# Driver method \n",
    "print(\"Area is %.6f\" % findArea(5)); "
   ]
  },
  {
   "cell_type": "markdown",
   "id": "382a848a",
   "metadata": {},
   "source": [
    "#7 Python program to print all \n",
    "#prime number in an interval \n",
    "start = 11\n",
    "end = 25"
   ]
  },
  {
   "cell_type": "code",
   "execution_count": 32,
   "id": "7f97021f",
   "metadata": {},
   "outputs": [
    {
     "name": "stdout",
     "output_type": "stream",
     "text": [
      "11\n",
      "11\n",
      "11\n",
      "11\n",
      "11\n",
      "11\n",
      "11\n",
      "11\n",
      "11\n",
      "13\n",
      "13\n",
      "13\n",
      "13\n",
      "13\n",
      "13\n",
      "13\n",
      "13\n",
      "13\n",
      "13\n",
      "13\n",
      "15\n",
      "17\n",
      "17\n",
      "17\n",
      "17\n",
      "17\n",
      "17\n",
      "17\n",
      "17\n",
      "17\n",
      "17\n",
      "17\n",
      "17\n",
      "17\n",
      "17\n",
      "17\n",
      "19\n",
      "19\n",
      "19\n",
      "19\n",
      "19\n",
      "19\n",
      "19\n",
      "19\n",
      "19\n",
      "19\n",
      "19\n",
      "19\n",
      "19\n",
      "19\n",
      "19\n",
      "19\n",
      "19\n",
      "21\n",
      "23\n",
      "23\n",
      "23\n",
      "23\n",
      "23\n",
      "23\n",
      "23\n",
      "23\n",
      "23\n",
      "23\n",
      "23\n",
      "23\n",
      "23\n",
      "23\n",
      "23\n",
      "23\n",
      "23\n",
      "23\n",
      "23\n",
      "23\n",
      "23\n",
      "25\n",
      "25\n",
      "25\n"
     ]
    }
   ],
   "source": [
    "start = 11\n",
    "end = 25\n",
    "for val in range(start, end+1): \n",
    "# If num is divisible by any number \n",
    "# between 2 and val, it is not prime \n",
    "    if val > 1: \n",
    "        for n in range(2,val): \n",
    "            if (val % n) == 0: \n",
    "                break\n",
    "            else: \n",
    "                print(val)"
   ]
  },
  {
   "cell_type": "markdown",
   "id": "46335058",
   "metadata": {},
   "source": [
    "#8 Python program to check if \n",
    "#given number is prime or not "
   ]
  },
  {
   "cell_type": "code",
   "execution_count": 36,
   "id": "54a6545e",
   "metadata": {},
   "outputs": [
    {
     "name": "stdout",
     "output_type": "stream",
     "text": [
      "11 is a prime number\n",
      "11 is a prime number\n",
      "11 is a prime number\n"
     ]
    }
   ],
   "source": [
    "num = 11\n",
    "# If given number is greater than 1 \n",
    "if num > 1: \n",
    "# Iterate from 2 to n / 2 \n",
    "    for i in range(2, num//2): \n",
    "# If num is divisible by any number between \n",
    "# 2 and n / 2, it is not prime \n",
    "        if (num % i) == 0: \n",
    "            print(num, \"is not a prime number\") \n",
    "            break\n",
    "        else: \n",
    "            print(num, \"is a prime number\") \n",
    "\n",
    "else: \n",
    "            print(num, \"is not a prime number\")"
   ]
  },
  {
   "cell_type": "markdown",
   "id": "b47b29d8",
   "metadata": {},
   "source": [
    "#9 Python Program to calculate the square root"
   ]
  },
  {
   "cell_type": "code",
   "execution_count": 38,
   "id": "cdfaf838",
   "metadata": {},
   "outputs": [
    {
     "name": "stdout",
     "output_type": "stream",
     "text": [
      "Enter a number: 8\n",
      "The square root of 8.000 is 2.828\n"
     ]
    }
   ],
   "source": [
    "num = 8 \n",
    "# To take the input from the user\n",
    "num = float(input('Enter a number: '))\n",
    "num_sqrt = num ** 0.5\n",
    "print('The square root of %0.3f is %0.3f'%(num ,num_sqrt))"
   ]
  },
  {
   "cell_type": "markdown",
   "id": "ac39eb2e",
   "metadata": {},
   "source": [
    "#10 Python Program to find the area of triangle"
   ]
  },
  {
   "cell_type": "code",
   "execution_count": 39,
   "id": "6414d040",
   "metadata": {},
   "outputs": [
    {
     "name": "stdout",
     "output_type": "stream",
     "text": [
      "Enter first side: 5\n",
      "Enter second side: 6\n",
      "Enter third side: 7\n",
      "The area of the triangle is 14.70\n"
     ]
    }
   ],
   "source": [
    "a = 5\n",
    "b = 6\n",
    "c = 7\n",
    "# Uncomment below to take inputs from the user\n",
    "a = float(input('Enter first side: '))\n",
    "b = float(input('Enter second side: '))\n",
    "c = float(input('Enter third side: '))\n",
    "# calculate the semi-perimeter\n",
    "s = (a + b + c) / 2\n",
    "# calculate the area\n",
    "area = (s*(s-a)*(s-b)*(s-c)) ** 0.5\n",
    "print('The area of the triangle is %0.2f' %area)"
   ]
  },
  {
   "cell_type": "markdown",
   "id": "406c2a6f",
   "metadata": {},
   "source": [
    "#11 Python program to find the factorial of a number provided by the user."
   ]
  },
  {
   "cell_type": "code",
   "execution_count": 41,
   "id": "680a54a1",
   "metadata": {},
   "outputs": [
    {
     "name": "stdout",
     "output_type": "stream",
     "text": [
      "Enter a number: 7\n",
      "The factorial of 7 is 1\n",
      "The factorial of 7 is 2\n",
      "The factorial of 7 is 6\n",
      "The factorial of 7 is 24\n",
      "The factorial of 7 is 120\n",
      "The factorial of 7 is 720\n",
      "The factorial of 7 is 5040\n"
     ]
    }
   ],
   "source": [
    "num = 7\n",
    "# To take input from the user\n",
    "num = int(input(\"Enter a number: \"))\n",
    "factorial = 1\n",
    "# check if the number is negative, positive or zero\n",
    "if num < 0:\n",
    "    print(\"Sorry, factorial does not exist for negative numbers\")\n",
    "elif num == 0:\n",
    "    print(\"The factorial of 0 is 1\")\n",
    "else:\n",
    "    for i in range(1,num + 1):\n",
    "        factorial = factorial*i\n",
    "        print(\"The factorial of\",num,\"is\",factorial)"
   ]
  },
  {
   "cell_type": "markdown",
   "id": "8a4525c9",
   "metadata": {},
   "source": [
    "#12 Taking kilometers input from the user"
   ]
  },
  {
   "cell_type": "code",
   "execution_count": 43,
   "id": "80db3794",
   "metadata": {},
   "outputs": [
    {
     "name": "stdout",
     "output_type": "stream",
     "text": [
      "Enter value in kilometers: 10\n",
      "10.00 kilometers is equal to 6.21 miles\n",
      "37.5 degree Celsius is equal to 99.5 degree Fahrenheit\n"
     ]
    }
   ],
   "source": [
    "kilometers = float(input(\"Enter value in kilometers: \"))\n",
    "# conversion factor\n",
    "conv_fac = 0.621371\n",
    "# calculate miles\n",
    "miles = kilometers * conv_fac\n",
    "print('%0.2f kilometers is equal to %0.2f miles' %(kilometers,miles))\n",
    "# Python Program to convert temperature in celsius to fahrenheit\n",
    "# change this value for a different result\n",
    "celsius = 37.5\n",
    "# calculate fahrenheit\n",
    "fahrenheit = (celsius * 1.8) + 32\n",
    "print('%0.1f degree Celsius is equal to %0.1f degree Fahrenheit' %(celsius,fahrenheit))"
   ]
  },
  {
   "cell_type": "markdown",
   "id": "56ebc743",
   "metadata": {},
   "source": [
    "#13 Program to check if a number is prime or not"
   ]
  },
  {
   "cell_type": "code",
   "execution_count": 47,
   "id": "3c84771a",
   "metadata": {},
   "outputs": [
    {
     "name": "stdout",
     "output_type": "stream",
     "text": [
      "Enter a number: 305\n",
      "305 is a prime number\n",
      "305 is a prime number\n",
      "305 is a prime number\n",
      "305 is not a prime number\n",
      "5 times 61 is 305\n"
     ]
    }
   ],
   "source": [
    "# To take input from the user\n",
    "num = int(input(\"Enter a number: \"))\n",
    "# prime numbers are greater than 1\n",
    "if num > 1:\n",
    "# check for factors\n",
    "    for i in range(2,num):\n",
    "        if (num % i) == 0:\n",
    "            print(num,\"is not a prime number\")\n",
    "            print(i,\"times\",num//i,\"is\",num)\n",
    "            break\n",
    "        else:\n",
    "            print(num,\"is a prime number\")\n",
    "# if input number is less than\n",
    "# or equal to 1, it is not prime\n",
    "else:\n",
    "    print(num,\"is not a prime number\")"
   ]
  },
  {
   "cell_type": "markdown",
   "id": "54217ddd",
   "metadata": {},
   "source": [
    "#14 Python program to find the largest number among the three input numbers"
   ]
  },
  {
   "cell_type": "code",
   "execution_count": 49,
   "id": "bf753d12",
   "metadata": {},
   "outputs": [
    {
     "name": "stdout",
     "output_type": "stream",
     "text": [
      "Enter first number: 10\n",
      "Enter second number: 14\n",
      "Enter third number: 12\n",
      "The largest number is 14.0\n"
     ]
    }
   ],
   "source": [
    "#change the values of num1, num2 and num3\n",
    "# for a different result\n",
    "num1 = 10\n",
    "num2 = 14\n",
    "num3 = 12\n",
    "# uncomment following lines to take three numbers from user\n",
    "num1 = float(input(\"Enter first number: \"))\n",
    "num2 = float(input(\"Enter second number: \"))\n",
    "num3 = float(input(\"Enter third number: \"))\n",
    "if (num1 >= num2) and (num1 >= num3):\n",
    "    largest = num1\n",
    "elif (num2 >= num1) and (num2 >= num3):\n",
    "    largest = num2\n",
    "else:\n",
    "    largest = num3\n",
    "print(\"The largest number is\", largest)"
   ]
  },
  {
   "cell_type": "markdown",
   "id": "4fe1de27",
   "metadata": {},
   "source": [
    "#15 Program make a simple calculator"
   ]
  },
  {
   "cell_type": "code",
   "execution_count": 53,
   "id": "db7cc1af",
   "metadata": {},
   "outputs": [
    {
     "name": "stdout",
     "output_type": "stream",
     "text": [
      "Select operation.\n",
      "1.Add\n",
      "2.Subtract\n",
      "3.Multiply\n",
      "4.Divide\n",
      "Enter choice(1/2/3/4): 1\n",
      "Enter first number: 500\n",
      "Enter second number: 525\n",
      "500.0 + 525.0 = 1025.0\n"
     ]
    }
   ],
   "source": [
    "# This function adds two numbers \n",
    "def add(x, y):\n",
    "    return x + y\n",
    "# This function subtracts two numbers \n",
    "def subtract(x, y):\n",
    "    return x - y\n",
    "# This function multiplies two numbers\n",
    "def multiply(x, y):\n",
    "    return x * y\n",
    "# This function divides two numbers\n",
    "def divide(x, y):\n",
    "    return x / y\n",
    "print(\"Select operation.\")\n",
    "print(\"1.Add\")\n",
    "print(\"2.Subtract\")\n",
    "print(\"3.Multiply\")\n",
    "print(\"4.Divide\")\n",
    "# Take input from the user \n",
    "choice = input(\"Enter choice(1/2/3/4): \")\n",
    "num1 = float(input(\"Enter first number: \"))\n",
    "num2 = float(input(\"Enter second number: \"))\n",
    "if choice == '1':\n",
    "    print(num1,\"+\",num2,\"=\", add(num1,num2))\n",
    "elif choice == '2':\n",
    "    print(num1,\"-\",num2,\"=\", subtract(num1,num2))\n",
    "elif choice == '3':\n",
    "    print(num1,\"*\",num2,\"=\", multiply(num1,num2))\n",
    "elif choice == '4':\n",
    "    print(num1,\"/\",num2,\"=\", divide(num1,num2))\n",
    "else:\n",
    "    print(\"Invalid input\")"
   ]
  }
 ],
 "metadata": {
  "kernelspec": {
   "display_name": "Python 3 (ipykernel)",
   "language": "python",
   "name": "python3"
  },
  "language_info": {
   "codemirror_mode": {
    "name": "ipython",
    "version": 3
   },
   "file_extension": ".py",
   "mimetype": "text/x-python",
   "name": "python",
   "nbconvert_exporter": "python",
   "pygments_lexer": "ipython3",
   "version": "3.9.12"
  }
 },
 "nbformat": 4,
 "nbformat_minor": 5
}
