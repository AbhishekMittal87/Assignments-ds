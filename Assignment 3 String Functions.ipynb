{
 "cells": [
  {
   "cell_type": "code",
   "execution_count": 1,
   "id": "01f8c291",
   "metadata": {},
   "outputs": [],
   "source": [
    "name=\"Tesla\""
   ]
  },
  {
   "cell_type": "code",
   "execution_count": 2,
   "id": "e6f53b25",
   "metadata": {},
   "outputs": [
    {
     "data": {
      "text/plain": [
       "'tesla'"
      ]
     },
     "execution_count": 2,
     "metadata": {},
     "output_type": "execute_result"
    }
   ],
   "source": [
    "name.lower()"
   ]
  },
  {
   "cell_type": "code",
   "execution_count": 3,
   "id": "1e4ff224",
   "metadata": {},
   "outputs": [
    {
     "data": {
      "text/plain": [
       "'TESLA'"
      ]
     },
     "execution_count": 3,
     "metadata": {},
     "output_type": "execute_result"
    }
   ],
   "source": [
    "name.upper()"
   ]
  },
  {
   "cell_type": "code",
   "execution_count": 4,
   "id": "98c8764c",
   "metadata": {},
   "outputs": [
    {
     "data": {
      "text/plain": [
       "5"
      ]
     },
     "execution_count": 4,
     "metadata": {},
     "output_type": "execute_result"
    }
   ],
   "source": [
    "len(name)"
   ]
  },
  {
   "cell_type": "code",
   "execution_count": 5,
   "id": "a764a420",
   "metadata": {},
   "outputs": [
    {
     "data": {
      "text/plain": [
       "'Tesla'"
      ]
     },
     "execution_count": 5,
     "metadata": {},
     "output_type": "execute_result"
    }
   ],
   "source": [
    "name.capitalize()"
   ]
  },
  {
   "cell_type": "code",
   "execution_count": 6,
   "id": "c8246582",
   "metadata": {},
   "outputs": [
    {
     "data": {
      "text/plain": [
       "True"
      ]
     },
     "execution_count": 6,
     "metadata": {},
     "output_type": "execute_result"
    }
   ],
   "source": [
    "name.isalpha()"
   ]
  },
  {
   "cell_type": "code",
   "execution_count": 7,
   "id": "d20eb139",
   "metadata": {},
   "outputs": [],
   "source": [
    "starship=\"Enterprise\""
   ]
  },
  {
   "cell_type": "code",
   "execution_count": 9,
   "id": "9a025a4a",
   "metadata": {},
   "outputs": [
    {
     "data": {
      "text/plain": [
       "True"
      ]
     },
     "execution_count": 9,
     "metadata": {},
     "output_type": "execute_result"
    }
   ],
   "source": [
    "starship.startswith(\"en\")\n",
    "starship.endswith(\"rise\")"
   ]
  },
  {
   "cell_type": "code",
   "execution_count": 11,
   "id": "e2a5aad7",
   "metadata": {},
   "outputs": [],
   "source": [
    "string=\"Welcome Sir\""
   ]
  },
  {
   "cell_type": "code",
   "execution_count": 16,
   "id": "82450df7",
   "metadata": {},
   "outputs": [
    {
     "name": "stdout",
     "output_type": "stream",
     "text": [
      "Welcome Sir\n"
     ]
    }
   ],
   "source": [
    "print(string)"
   ]
  },
  {
   "cell_type": "code",
   "execution_count": 32,
   "id": "ba10bb29",
   "metadata": {},
   "outputs": [],
   "source": [
    "a=string.replace(\"Welcome\",\"Goodbye\")"
   ]
  },
  {
   "cell_type": "code",
   "execution_count": 33,
   "id": "7b7b07b8",
   "metadata": {},
   "outputs": [
    {
     "name": "stdout",
     "output_type": "stream",
     "text": [
      "Goodbye Sir\n"
     ]
    }
   ],
   "source": [
    "print(a)"
   ]
  },
  {
   "cell_type": "code",
   "execution_count": 19,
   "id": "1f557c36",
   "metadata": {},
   "outputs": [],
   "source": [
    "txt=\"I like bananas\""
   ]
  },
  {
   "cell_type": "code",
   "execution_count": 20,
   "id": "c34412f2",
   "metadata": {},
   "outputs": [],
   "source": [
    "x=txt.replace(\"bananas\",\"apple\")"
   ]
  },
  {
   "cell_type": "code",
   "execution_count": 22,
   "id": "2d091c42",
   "metadata": {},
   "outputs": [
    {
     "name": "stdout",
     "output_type": "stream",
     "text": [
      "I like apple\n"
     ]
    }
   ],
   "source": [
    "print(x)"
   ]
  },
  {
   "cell_type": "code",
   "execution_count": 34,
   "id": "84fc19a2",
   "metadata": {},
   "outputs": [],
   "source": [
    "phrase=\"the surprise is in here somewhere\""
   ]
  },
  {
   "cell_type": "code",
   "execution_count": 35,
   "id": "ac3125d3",
   "metadata": {},
   "outputs": [
    {
     "data": {
      "text/plain": [
       "4"
      ]
     },
     "execution_count": 35,
     "metadata": {},
     "output_type": "execute_result"
    }
   ],
   "source": [
    "phrase.find(\"surprise\")"
   ]
  },
  {
   "cell_type": "code",
   "execution_count": 36,
   "id": "6e05d0c9",
   "metadata": {},
   "outputs": [],
   "source": [
    "text=\"Hello World Datatrained\""
   ]
  },
  {
   "cell_type": "code",
   "execution_count": 38,
   "id": "48171aae",
   "metadata": {},
   "outputs": [
    {
     "name": "stdout",
     "output_type": "stream",
     "text": [
      "['Hello', 'World', 'Datatrained']\n"
     ]
    }
   ],
   "source": [
    "print(text.split())"
   ]
  },
  {
   "cell_type": "code",
   "execution_count": 39,
   "id": "3d50de31",
   "metadata": {},
   "outputs": [
    {
     "name": "stdout",
     "output_type": "stream",
     "text": [
      "['Hello World Datatrained']\n"
     ]
    }
   ],
   "source": [
    "print(text.split(\",\"))"
   ]
  },
  {
   "cell_type": "code",
   "execution_count": 40,
   "id": "62e8420f",
   "metadata": {},
   "outputs": [
    {
     "name": "stdout",
     "output_type": "stream",
     "text": [
      "['Hello World Datatrained']\n"
     ]
    }
   ],
   "source": [
    "print(text.split(\":\"))"
   ]
  },
  {
   "cell_type": "markdown",
   "id": "c94f7e38",
   "metadata": {},
   "source": [
    "Write a program that converts the following strings to lowercase:\n",
    "\"Animals\", \"Badger\", \"Honey Bee\", \"Honey Badger\". Print each lowercase string on a separate line."
   ]
  },
  {
   "cell_type": "code",
   "execution_count": 45,
   "id": "98339c66",
   "metadata": {},
   "outputs": [],
   "source": [
    "string1=\"Animals\""
   ]
  },
  {
   "cell_type": "code",
   "execution_count": 47,
   "id": "c4194c50",
   "metadata": {},
   "outputs": [
    {
     "data": {
      "text/plain": [
       "'animals'"
      ]
     },
     "execution_count": 47,
     "metadata": {},
     "output_type": "execute_result"
    }
   ],
   "source": [
    "string1.lower()"
   ]
  },
  {
   "cell_type": "code",
   "execution_count": 48,
   "id": "f64f2aea",
   "metadata": {},
   "outputs": [
    {
     "data": {
      "text/plain": [
       "'ANIMALS'"
      ]
     },
     "execution_count": 48,
     "metadata": {},
     "output_type": "execute_result"
    }
   ],
   "source": [
    "string1.upper()"
   ]
  },
  {
   "cell_type": "code",
   "execution_count": 49,
   "id": "88bf7207",
   "metadata": {},
   "outputs": [
    {
     "data": {
      "text/plain": [
       "'Animals'"
      ]
     },
     "execution_count": 49,
     "metadata": {},
     "output_type": "execute_result"
    }
   ],
   "source": [
    "string1.capitalize()"
   ]
  },
  {
   "cell_type": "code",
   "execution_count": 50,
   "id": "3c14a5ea",
   "metadata": {},
   "outputs": [],
   "source": [
    "string2=\"Badger\""
   ]
  },
  {
   "cell_type": "code",
   "execution_count": 51,
   "id": "3c62236c",
   "metadata": {},
   "outputs": [
    {
     "data": {
      "text/plain": [
       "'badger'"
      ]
     },
     "execution_count": 51,
     "metadata": {},
     "output_type": "execute_result"
    }
   ],
   "source": [
    "string2.lower()"
   ]
  },
  {
   "cell_type": "code",
   "execution_count": 52,
   "id": "3bf1ef94",
   "metadata": {},
   "outputs": [
    {
     "data": {
      "text/plain": [
       "'BADGER'"
      ]
     },
     "execution_count": 52,
     "metadata": {},
     "output_type": "execute_result"
    }
   ],
   "source": [
    "string2.upper()"
   ]
  },
  {
   "cell_type": "code",
   "execution_count": 53,
   "id": "dfb0b933",
   "metadata": {},
   "outputs": [
    {
     "data": {
      "text/plain": [
       "'Badger'"
      ]
     },
     "execution_count": 53,
     "metadata": {},
     "output_type": "execute_result"
    }
   ],
   "source": [
    "string2.capitalize()"
   ]
  },
  {
   "cell_type": "code",
   "execution_count": 54,
   "id": "7df511ba",
   "metadata": {},
   "outputs": [],
   "source": [
    "string3=\"Honey Bee\""
   ]
  },
  {
   "cell_type": "code",
   "execution_count": 55,
   "id": "bfa8e518",
   "metadata": {},
   "outputs": [
    {
     "data": {
      "text/plain": [
       "'honey bee'"
      ]
     },
     "execution_count": 55,
     "metadata": {},
     "output_type": "execute_result"
    }
   ],
   "source": [
    "string3.lower()"
   ]
  },
  {
   "cell_type": "code",
   "execution_count": 56,
   "id": "f4624227",
   "metadata": {},
   "outputs": [
    {
     "data": {
      "text/plain": [
       "'HONEY BEE'"
      ]
     },
     "execution_count": 56,
     "metadata": {},
     "output_type": "execute_result"
    }
   ],
   "source": [
    "string3.upper()"
   ]
  },
  {
   "cell_type": "code",
   "execution_count": 57,
   "id": "d5909c2c",
   "metadata": {},
   "outputs": [
    {
     "data": {
      "text/plain": [
       "'Honey bee'"
      ]
     },
     "execution_count": 57,
     "metadata": {},
     "output_type": "execute_result"
    }
   ],
   "source": [
    "string3.capitalize()"
   ]
  },
  {
   "cell_type": "code",
   "execution_count": 58,
   "id": "36a9ee8a",
   "metadata": {},
   "outputs": [],
   "source": [
    "string4=\"Honey Badger\""
   ]
  },
  {
   "cell_type": "code",
   "execution_count": 59,
   "id": "dc27f521",
   "metadata": {},
   "outputs": [
    {
     "data": {
      "text/plain": [
       "'honey badger'"
      ]
     },
     "execution_count": 59,
     "metadata": {},
     "output_type": "execute_result"
    }
   ],
   "source": [
    "string4.lower()"
   ]
  },
  {
   "cell_type": "code",
   "execution_count": 60,
   "id": "7d1f3306",
   "metadata": {},
   "outputs": [
    {
     "data": {
      "text/plain": [
       "'HONEY BADGER'"
      ]
     },
     "execution_count": 60,
     "metadata": {},
     "output_type": "execute_result"
    }
   ],
   "source": [
    "string4.upper()"
   ]
  },
  {
   "cell_type": "code",
   "execution_count": 61,
   "id": "5cc7f3aa",
   "metadata": {},
   "outputs": [
    {
     "data": {
      "text/plain": [
       "'Honey badger'"
      ]
     },
     "execution_count": 61,
     "metadata": {},
     "output_type": "execute_result"
    }
   ],
   "source": [
    "string4.capitalize()"
   ]
  },
  {
   "cell_type": "markdown",
   "id": "a1a8a222",
   "metadata": {},
   "source": [
    "Write a program that prints out the result of .startswith(\"be\") on\n",
    "each of the following strings:\n",
    "string1 = \"Becomes\"\n",
    "string2 = \"becomes\"\n",
    "string3 = \"BEAR\"\n",
    "string4 = \" bEautiful\""
   ]
  },
  {
   "cell_type": "code",
   "execution_count": 65,
   "id": "94cbb078",
   "metadata": {},
   "outputs": [],
   "source": [
    "string1=\"Becomes\"\n",
    "string2=\"becomes\"\n",
    "string3=\"BEAR\"\n",
    "string4=\"bEautiful\""
   ]
  },
  {
   "cell_type": "markdown",
   "id": "9cd4149b",
   "metadata": {},
   "source": [
    "Using the same four strings from above, write a program that\n",
    "uses string methods to alter each string so that .startswith(\"be\")\n",
    "returns True for all of them"
   ]
  },
  {
   "cell_type": "code",
   "execution_count": 68,
   "id": "a79a87af",
   "metadata": {},
   "outputs": [
    {
     "name": "stdout",
     "output_type": "stream",
     "text": [
      "False\n",
      "True\n",
      "False\n",
      "False\n"
     ]
    }
   ],
   "source": [
    "print(string1.startswith(\"be\"))\n",
    "print(string2.startswith(\"be\"))\n",
    "print(string3.startswith(\"be\"))\n",
    "print(string4.startswith(\"be\"))"
   ]
  },
  {
   "cell_type": "markdown",
   "id": "60900c77",
   "metadata": {},
   "source": [
    "Write a program that takes input from the user and displays that\n",
    "input back."
   ]
  },
  {
   "cell_type": "code",
   "execution_count": 69,
   "id": "5ed8e55a",
   "metadata": {},
   "outputs": [
    {
     "name": "stdout",
     "output_type": "stream",
     "text": [
      "Hello, What's upJust Doing Python\n",
      "myfriend said: Just Doing Python\n"
     ]
    }
   ],
   "source": [
    "Abhi=\"Hello, What's up\"\n",
    "myfriend = input(Abhi)\n",
    "print(\"myfriend said:\", myfriend)"
   ]
  },
  {
   "cell_type": "markdown",
   "id": "600bfb1d",
   "metadata": {},
   "source": [
    " Write a program that takes input from the user and displays the\n",
    "input in lowercase."
   ]
  },
  {
   "cell_type": "code",
   "execution_count": 70,
   "id": "5dbdb801",
   "metadata": {},
   "outputs": [
    {
     "name": "stdout",
     "output_type": "stream",
     "text": [
      "Hello, What's upJust Doing Python\n",
      "myfriend said: just doing python\n"
     ]
    }
   ],
   "source": [
    "Abhi=\"Hello, What's up\"\n",
    "myfriend = input(Abhi)\n",
    "print(\"myfriend said:\", myfriend.lower())"
   ]
  },
  {
   "cell_type": "code",
   "execution_count": 71,
   "id": "5367db81",
   "metadata": {},
   "outputs": [
    {
     "name": "stdout",
     "output_type": "stream",
     "text": [
      "Hello, What's upjust doing python\n",
      "myfriend said: JUST DOING PYTHON\n"
     ]
    }
   ],
   "source": [
    "Abhi=\"Hello, What's up\"\n",
    "myfriend = input(Abhi)\n",
    "print(\"myfriend said:\", myfriend.upper())"
   ]
  },
  {
   "cell_type": "markdown",
   "id": "ff101204",
   "metadata": {},
   "source": [
    "Write a program that takes input from the user and displays the\n",
    "number of characters/len in the input."
   ]
  },
  {
   "cell_type": "code",
   "execution_count": 74,
   "id": "87375b22",
   "metadata": {},
   "outputs": [
    {
     "name": "stdout",
     "output_type": "stream",
     "text": [
      "Hello, What's upjust doing python\n",
      "myfriend said: just doing python 17\n"
     ]
    }
   ],
   "source": [
    "Abhi=\"Hello, What's up\"\n",
    "myfriend = input(Abhi)\n",
    "print(\"myfriend said:\", myfriend, len(myfriend))"
   ]
  },
  {
   "cell_type": "code",
   "execution_count": null,
   "id": "f67ccad3",
   "metadata": {},
   "outputs": [],
   "source": []
  },
  {
   "cell_type": "code",
   "execution_count": null,
   "id": "9683680c",
   "metadata": {},
   "outputs": [],
   "source": []
  },
  {
   "cell_type": "code",
   "execution_count": null,
   "id": "d9993a74",
   "metadata": {},
   "outputs": [],
   "source": []
  },
  {
   "cell_type": "code",
   "execution_count": null,
   "id": "5637b3c6",
   "metadata": {},
   "outputs": [],
   "source": []
  },
  {
   "cell_type": "code",
   "execution_count": null,
   "id": "5b750f5c",
   "metadata": {},
   "outputs": [],
   "source": []
  },
  {
   "cell_type": "code",
   "execution_count": null,
   "id": "b3dd65fb",
   "metadata": {},
   "outputs": [],
   "source": []
  },
  {
   "cell_type": "code",
   "execution_count": null,
   "id": "579d5b9e",
   "metadata": {},
   "outputs": [],
   "source": []
  },
  {
   "cell_type": "code",
   "execution_count": null,
   "id": "4d07e3c1",
   "metadata": {},
   "outputs": [],
   "source": []
  },
  {
   "cell_type": "code",
   "execution_count": null,
   "id": "aa8f10e9",
   "metadata": {},
   "outputs": [],
   "source": []
  },
  {
   "cell_type": "code",
   "execution_count": null,
   "id": "00aae7ab",
   "metadata": {},
   "outputs": [],
   "source": []
  },
  {
   "cell_type": "code",
   "execution_count": null,
   "id": "c5cc53ed",
   "metadata": {},
   "outputs": [],
   "source": []
  },
  {
   "cell_type": "code",
   "execution_count": null,
   "id": "34de7e6a",
   "metadata": {},
   "outputs": [],
   "source": []
  }
 ],
 "metadata": {
  "kernelspec": {
   "display_name": "Python 3 (ipykernel)",
   "language": "python",
   "name": "python3"
  },
  "language_info": {
   "codemirror_mode": {
    "name": "ipython",
    "version": 3
   },
   "file_extension": ".py",
   "mimetype": "text/x-python",
   "name": "python",
   "nbconvert_exporter": "python",
   "pygments_lexer": "ipython3",
   "version": "3.9.12"
  }
 },
 "nbformat": 4,
 "nbformat_minor": 5
}
