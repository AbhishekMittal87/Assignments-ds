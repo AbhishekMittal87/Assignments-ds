{
 "cells": [
  {
   "cell_type": "code",
   "execution_count": 1,
   "id": "58c23a4a",
   "metadata": {},
   "outputs": [
    {
     "data": {
      "text/plain": [
       "12"
      ]
     },
     "execution_count": 1,
     "metadata": {},
     "output_type": "execute_result"
    }
   ],
   "source": [
    "8+4"
   ]
  },
  {
   "cell_type": "code",
   "execution_count": 2,
   "id": "26b1c5bc",
   "metadata": {},
   "outputs": [
    {
     "data": {
      "text/plain": [
       "80"
      ]
     },
     "execution_count": 2,
     "metadata": {},
     "output_type": "execute_result"
    }
   ],
   "source": [
    "16*5"
   ]
  },
  {
   "cell_type": "code",
   "execution_count": 3,
   "id": "0e8cb423",
   "metadata": {},
   "outputs": [
    {
     "data": {
      "text/plain": [
       "20"
      ]
     },
     "execution_count": 3,
     "metadata": {},
     "output_type": "execute_result"
    }
   ],
   "source": [
    "50-5*6"
   ]
  },
  {
   "cell_type": "code",
   "execution_count": 4,
   "id": "45e40fa7",
   "metadata": {},
   "outputs": [
    {
     "data": {
      "text/plain": [
       "5.0"
      ]
     },
     "execution_count": 4,
     "metadata": {},
     "output_type": "execute_result"
    }
   ],
   "source": [
    "(50-5*6)/4"
   ]
  },
  {
   "cell_type": "code",
   "execution_count": 5,
   "id": "7dff21f6",
   "metadata": {},
   "outputs": [
    {
     "name": "stdout",
     "output_type": "stream",
     "text": [
      "Hello World of Python\n"
     ]
    }
   ],
   "source": [
    "# Now Write comment\n",
    "# This is my first program.\n",
    "# It prints the phrase \"Hello, World\"\n",
    "# The comments are longer than the code!\n",
    "greeting = \"Hello World of Python\"\n",
    "print(greeting)"
   ]
  },
  {
   "cell_type": "code",
   "execution_count": 7,
   "id": "2b7479b4",
   "metadata": {},
   "outputs": [
    {
     "data": {
      "text/plain": [
       "1.6"
      ]
     },
     "execution_count": 7,
     "metadata": {},
     "output_type": "execute_result"
    }
   ],
   "source": [
    "8/5"
   ]
  },
  {
   "cell_type": "code",
   "execution_count": 8,
   "id": "c6d74409",
   "metadata": {},
   "outputs": [
    {
     "data": {
      "text/plain": [
       "5.666666666666667"
      ]
     },
     "execution_count": 8,
     "metadata": {},
     "output_type": "execute_result"
    }
   ],
   "source": [
    "17/3"
   ]
  },
  {
   "cell_type": "code",
   "execution_count": 9,
   "id": "28793db4",
   "metadata": {},
   "outputs": [
    {
     "data": {
      "text/plain": [
       "5"
      ]
     },
     "execution_count": 9,
     "metadata": {},
     "output_type": "execute_result"
    }
   ],
   "source": [
    "17//3"
   ]
  },
  {
   "cell_type": "code",
   "execution_count": 10,
   "id": "7282e2a8",
   "metadata": {},
   "outputs": [
    {
     "data": {
      "text/plain": [
       "2"
      ]
     },
     "execution_count": 10,
     "metadata": {},
     "output_type": "execute_result"
    }
   ],
   "source": [
    "17%3"
   ]
  },
  {
   "cell_type": "code",
   "execution_count": 11,
   "id": "f81ab381",
   "metadata": {},
   "outputs": [
    {
     "data": {
      "text/plain": [
       "17"
      ]
     },
     "execution_count": 11,
     "metadata": {},
     "output_type": "execute_result"
    }
   ],
   "source": [
    "5*3+2"
   ]
  },
  {
   "cell_type": "code",
   "execution_count": 12,
   "id": "db00dc94",
   "metadata": {},
   "outputs": [
    {
     "data": {
      "text/plain": [
       "25"
      ]
     },
     "execution_count": 12,
     "metadata": {},
     "output_type": "execute_result"
    }
   ],
   "source": [
    "5**2"
   ]
  },
  {
   "cell_type": "code",
   "execution_count": 13,
   "id": "55302094",
   "metadata": {},
   "outputs": [
    {
     "data": {
      "text/plain": [
       "128"
      ]
     },
     "execution_count": 13,
     "metadata": {},
     "output_type": "execute_result"
    }
   ],
   "source": [
    "2**7"
   ]
  },
  {
   "cell_type": "code",
   "execution_count": 14,
   "id": "03252383",
   "metadata": {},
   "outputs": [],
   "source": [
    "width = 20"
   ]
  },
  {
   "cell_type": "code",
   "execution_count": 15,
   "id": "6df20517",
   "metadata": {},
   "outputs": [
    {
     "name": "stdout",
     "output_type": "stream",
     "text": [
      "20\n"
     ]
    }
   ],
   "source": [
    "height = 5 * 9\n",
    "width * height\n",
    "print(width)"
   ]
  },
  {
   "cell_type": "code",
   "execution_count": 16,
   "id": "9f513794",
   "metadata": {},
   "outputs": [
    {
     "name": "stdout",
     "output_type": "stream",
     "text": [
      "The value of width= 20\n"
     ]
    }
   ],
   "source": [
    "print(\"The value of width=\", width)"
   ]
  },
  {
   "cell_type": "code",
   "execution_count": 17,
   "id": "12486afe",
   "metadata": {},
   "outputs": [
    {
     "name": "stdout",
     "output_type": "stream",
     "text": [
      "The value of width is = 20\n"
     ]
    }
   ],
   "source": [
    "print (\"The value of width is =\", width)"
   ]
  },
  {
   "cell_type": "code",
   "execution_count": 18,
   "id": "bb0fc541",
   "metadata": {},
   "outputs": [
    {
     "name": "stdout",
     "output_type": "stream",
     "text": [
      "value= 900\n"
     ]
    }
   ],
   "source": [
    "print(\"value=\",width * height)"
   ]
  },
  {
   "cell_type": "code",
   "execution_count": 19,
   "id": "2503b04b",
   "metadata": {},
   "outputs": [
    {
     "name": "stdout",
     "output_type": "stream",
     "text": [
      "45\n"
     ]
    }
   ],
   "source": [
    "print(height)"
   ]
  },
  {
   "cell_type": "code",
   "execution_count": 20,
   "id": "b97b9a46",
   "metadata": {},
   "outputs": [
    {
     "name": "stdout",
     "output_type": "stream",
     "text": [
      "The value of height= 45\n"
     ]
    }
   ],
   "source": [
    "print(\"The value of height=\", height)"
   ]
  },
  {
   "cell_type": "code",
   "execution_count": 21,
   "id": "4980cd92",
   "metadata": {},
   "outputs": [
    {
     "name": "stdout",
     "output_type": "stream",
     "text": [
      "The valud of height is = 45\n"
     ]
    }
   ],
   "source": [
    "print(\"The valud of height is =\", height)"
   ]
  },
  {
   "cell_type": "code",
   "execution_count": 22,
   "id": "95f6cc95",
   "metadata": {},
   "outputs": [],
   "source": [
    "tax = 12.8/100"
   ]
  },
  {
   "cell_type": "code",
   "execution_count": 23,
   "id": "4c9d9f5e",
   "metadata": {},
   "outputs": [],
   "source": [
    "price = 100.5"
   ]
  },
  {
   "cell_type": "code",
   "execution_count": 24,
   "id": "43f13dd4",
   "metadata": {},
   "outputs": [
    {
     "name": "stdout",
     "output_type": "stream",
     "text": [
      "value= 12.864\n"
     ]
    }
   ],
   "source": [
    "price * tax\n",
    "print (\"value=\", price *tax)"
   ]
  },
  {
   "cell_type": "code",
   "execution_count": 25,
   "id": "921f1ed1",
   "metadata": {},
   "outputs": [
    {
     "name": "stdout",
     "output_type": "stream",
     "text": [
      "The value of tax= 0.128\n"
     ]
    }
   ],
   "source": [
    "print(\"The value of tax=\",tax)"
   ]
  },
  {
   "cell_type": "code",
   "execution_count": 26,
   "id": "95de171c",
   "metadata": {},
   "outputs": [
    {
     "data": {
      "text/plain": [
       "'The Sun'"
      ]
     },
     "execution_count": 26,
     "metadata": {},
     "output_type": "execute_result"
    }
   ],
   "source": [
    "\"The \" + \"Sun\""
   ]
  },
  {
   "cell_type": "code",
   "execution_count": 27,
   "id": "e9190425",
   "metadata": {},
   "outputs": [
    {
     "data": {
      "text/plain": [
       "'The Moon'"
      ]
     },
     "execution_count": 27,
     "metadata": {},
     "output_type": "execute_result"
    }
   ],
   "source": [
    "\"The \" + \"Moon\""
   ]
  },
  {
   "cell_type": "code",
   "execution_count": 28,
   "id": "91c8a03b",
   "metadata": {},
   "outputs": [
    {
     "data": {
      "text/plain": [
       "'Planet Universe'"
      ]
     },
     "execution_count": 28,
     "metadata": {},
     "output_type": "execute_result"
    }
   ],
   "source": [
    "\"Planet \" + \"Universe\""
   ]
  },
  {
   "cell_type": "code",
   "execution_count": 29,
   "id": "cb54a4d8",
   "metadata": {},
   "outputs": [],
   "source": [
    "string1 = \"Elon\""
   ]
  },
  {
   "cell_type": "code",
   "execution_count": 30,
   "id": "edf611eb",
   "metadata": {},
   "outputs": [],
   "source": [
    "string2 = \" Musk\""
   ]
  },
  {
   "cell_type": "code",
   "execution_count": 31,
   "id": "f3333f36",
   "metadata": {},
   "outputs": [],
   "source": [
    "magic_string = string1  + string2"
   ]
  },
  {
   "cell_type": "code",
   "execution_count": 32,
   "id": "03d854ef",
   "metadata": {},
   "outputs": [
    {
     "data": {
      "text/plain": [
       "'Elon Musk'"
      ]
     },
     "execution_count": 32,
     "metadata": {},
     "output_type": "execute_result"
    }
   ],
   "source": [
    "magic_string"
   ]
  },
  {
   "cell_type": "code",
   "execution_count": 33,
   "id": "162b438a",
   "metadata": {},
   "outputs": [],
   "source": [
    "first_name = \"Arthur\""
   ]
  },
  {
   "cell_type": "code",
   "execution_count": 34,
   "id": "dfccdea8",
   "metadata": {},
   "outputs": [],
   "source": [
    "last_name = \"Dent\""
   ]
  },
  {
   "cell_type": "code",
   "execution_count": 35,
   "id": "d5d17613",
   "metadata": {},
   "outputs": [],
   "source": [
    "full_name = first_name + \" \" + last_name"
   ]
  },
  {
   "cell_type": "code",
   "execution_count": 36,
   "id": "e67e9f27",
   "metadata": {},
   "outputs": [
    {
     "data": {
      "text/plain": [
       "'Arthur Dent'"
      ]
     },
     "execution_count": 36,
     "metadata": {},
     "output_type": "execute_result"
    }
   ],
   "source": [
    "full_name"
   ]
  },
  {
   "cell_type": "code",
   "execution_count": 37,
   "id": "57b09e80",
   "metadata": {},
   "outputs": [],
   "source": [
    "first_name = \"Abhishek\""
   ]
  },
  {
   "cell_type": "code",
   "execution_count": 38,
   "id": "02280b91",
   "metadata": {},
   "outputs": [],
   "source": [
    "last_name = \"Mittal\""
   ]
  },
  {
   "cell_type": "code",
   "execution_count": 39,
   "id": "b4608f97",
   "metadata": {},
   "outputs": [],
   "source": [
    "my_name = first_name + \" \" + last_name"
   ]
  },
  {
   "cell_type": "code",
   "execution_count": 40,
   "id": "0067ad33",
   "metadata": {},
   "outputs": [
    {
     "name": "stdout",
     "output_type": "stream",
     "text": [
      "Abhishek Mittal\n"
     ]
    }
   ],
   "source": [
    "print(my_name)"
   ]
  },
  {
   "cell_type": "code",
   "execution_count": 41,
   "id": "53e4e14d",
   "metadata": {},
   "outputs": [],
   "source": [
    "first_name = \"Ganga\""
   ]
  },
  {
   "cell_type": "code",
   "execution_count": 42,
   "id": "dd84002f",
   "metadata": {},
   "outputs": [],
   "source": [
    "last_name = \"Devi\""
   ]
  },
  {
   "cell_type": "code",
   "execution_count": 43,
   "id": "c1a4559b",
   "metadata": {},
   "outputs": [],
   "source": [
    "mywife = first_name + \" \" + last_name"
   ]
  },
  {
   "cell_type": "code",
   "execution_count": 44,
   "id": "95cb3dd8",
   "metadata": {},
   "outputs": [
    {
     "data": {
      "text/plain": [
       "'Ganga Devi'"
      ]
     },
     "execution_count": 44,
     "metadata": {},
     "output_type": "execute_result"
    }
   ],
   "source": [
    "mywife"
   ]
  },
  {
   "cell_type": "code",
   "execution_count": 45,
   "id": "de419208",
   "metadata": {},
   "outputs": [
    {
     "name": "stdout",
     "output_type": "stream",
     "text": [
      "Hey, what's up? Nothing\n",
      "You said: Nothing\n"
     ]
    }
   ],
   "source": [
    "prompt = \"Hey, what's up? \"\n",
    "\n",
    "user_input = input(prompt)\n",
    "\n",
    "print(\"You said: \" + user_input)\n",
    "\n"
   ]
  },
  {
   "cell_type": "markdown",
   "id": "26f58955",
   "metadata": {},
   "source": [
    "#Task: Take user input and make twice of that number"
   ]
  },
  {
   "cell_type": "code",
   "execution_count": 50,
   "id": "90134c45",
   "metadata": {},
   "outputs": [
    {
     "name": "stdout",
     "output_type": "stream",
     "text": [
      "Enter a number to be doubled: 5\n",
      "55\n"
     ]
    }
   ],
   "source": [
    "num = input(\"Enter a number to be doubled: \")\n",
    "doubled_num = (num)*2\n",
    "print(doubled_num)"
   ]
  },
  {
   "cell_type": "markdown",
   "id": "1f1eea15",
   "metadata": {},
   "source": [
    "# Task: Take user input and make twice of that number and typecast it to float."
   ]
  },
  {
   "cell_type": "code",
   "execution_count": 48,
   "id": "b70400f0",
   "metadata": {},
   "outputs": [
    {
     "name": "stdout",
     "output_type": "stream",
     "text": [
      "Enter a number to be doubled: 5\n",
      "10.0\n"
     ]
    }
   ],
   "source": [
    "num = input(\"Enter a number to be doubled: \")\n",
    "doubled_num = float(num) * 2\n",
    "print(doubled_num)"
   ]
  },
  {
   "cell_type": "markdown",
   "id": "001d7068",
   "metadata": {},
   "source": [
    "Write a program that uses input() twice to get two numbers from\n",
    "the user, multiplies the numbers together, and displays the result."
   ]
  },
  {
   "cell_type": "code",
   "execution_count": 62,
   "id": "26347849",
   "metadata": {},
   "outputs": [
    {
     "name": "stdout",
     "output_type": "stream",
     "text": [
      "First Number: 9\n",
      "Second Number: 5\n",
      "45\n"
     ]
    }
   ],
   "source": [
    "x = input(\"First Number: \")\n",
    "y = input(\"Second Number: \")\n",
    "x = int(x)\n",
    "y = int(y)\n",
    "print(x*y)"
   ]
  },
  {
   "cell_type": "markdown",
   "id": "5f72878b",
   "metadata": {},
   "source": [
    "Calculate simple interest by taking user input for priciple,rate and time ."
   ]
  },
  {
   "cell_type": "code",
   "execution_count": 66,
   "id": "7dde3a42",
   "metadata": {},
   "outputs": [
    {
     "name": "stdout",
     "output_type": "stream",
     "text": [
      "Principle100\n",
      "Rate11\n",
      "Time5\n",
      "55.0\n"
     ]
    }
   ],
   "source": [
    "p = int(input(\"Principle\"))\n",
    "r = int(input(\"Rate\"))\n",
    "t = int(input(\"Time\"))\n",
    "simple_interest=(p*r*t)/100\n",
    "print(simple_interest)"
   ]
  },
  {
   "cell_type": "code",
   "execution_count": 67,
   "id": "2ed5b847",
   "metadata": {},
   "outputs": [
    {
     "data": {
      "text/plain": [
       "3"
      ]
     },
     "execution_count": 67,
     "metadata": {},
     "output_type": "execute_result"
    }
   ],
   "source": [
    "# Find length\n",
    "len(\"abc\")\n",
    "letters = \"abc\"\n",
    "len(letters)"
   ]
  },
  {
   "cell_type": "markdown",
   "id": "09c48022",
   "metadata": {},
   "source": [
    "Create a string and print its length using len()"
   ]
  },
  {
   "cell_type": "code",
   "execution_count": 69,
   "id": "cef2dcdd",
   "metadata": {},
   "outputs": [
    {
     "data": {
      "text/plain": [
       "8"
      ]
     },
     "execution_count": 69,
     "metadata": {},
     "output_type": "execute_result"
    }
   ],
   "source": [
    "string=\"Abhishek\"\n",
    "len(string)"
   ]
  },
  {
   "cell_type": "code",
   "execution_count": null,
   "id": "41a4d2c3",
   "metadata": {},
   "outputs": [],
   "source": []
  },
  {
   "cell_type": "code",
   "execution_count": null,
   "id": "c00a119a",
   "metadata": {},
   "outputs": [],
   "source": []
  },
  {
   "cell_type": "code",
   "execution_count": null,
   "id": "d2a43e0b",
   "metadata": {},
   "outputs": [],
   "source": []
  },
  {
   "cell_type": "code",
   "execution_count": null,
   "id": "d45884b9",
   "metadata": {},
   "outputs": [],
   "source": []
  },
  {
   "cell_type": "code",
   "execution_count": null,
   "id": "32c2dbbe",
   "metadata": {},
   "outputs": [],
   "source": []
  },
  {
   "cell_type": "code",
   "execution_count": null,
   "id": "aee5c443",
   "metadata": {},
   "outputs": [],
   "source": []
  },
  {
   "cell_type": "code",
   "execution_count": null,
   "id": "4b849ebe",
   "metadata": {},
   "outputs": [],
   "source": []
  },
  {
   "cell_type": "code",
   "execution_count": null,
   "id": "19a08b6b",
   "metadata": {},
   "outputs": [],
   "source": []
  },
  {
   "cell_type": "code",
   "execution_count": null,
   "id": "287111e9",
   "metadata": {},
   "outputs": [],
   "source": []
  },
  {
   "cell_type": "code",
   "execution_count": null,
   "id": "ca221f19",
   "metadata": {},
   "outputs": [],
   "source": []
  },
  {
   "cell_type": "code",
   "execution_count": null,
   "id": "e86baf19",
   "metadata": {},
   "outputs": [],
   "source": []
  },
  {
   "cell_type": "code",
   "execution_count": null,
   "id": "d17bd4e9",
   "metadata": {},
   "outputs": [],
   "source": []
  },
  {
   "cell_type": "code",
   "execution_count": null,
   "id": "53a00ae7",
   "metadata": {},
   "outputs": [],
   "source": []
  },
  {
   "cell_type": "code",
   "execution_count": null,
   "id": "3897d3c7",
   "metadata": {},
   "outputs": [],
   "source": []
  },
  {
   "cell_type": "code",
   "execution_count": null,
   "id": "5c0017f4",
   "metadata": {},
   "outputs": [],
   "source": []
  },
  {
   "cell_type": "code",
   "execution_count": null,
   "id": "470fd2a6",
   "metadata": {},
   "outputs": [],
   "source": []
  },
  {
   "cell_type": "code",
   "execution_count": null,
   "id": "660d74cb",
   "metadata": {},
   "outputs": [],
   "source": []
  },
  {
   "cell_type": "code",
   "execution_count": null,
   "id": "947cba10",
   "metadata": {},
   "outputs": [],
   "source": []
  },
  {
   "cell_type": "code",
   "execution_count": null,
   "id": "80c0b90c",
   "metadata": {},
   "outputs": [],
   "source": []
  },
  {
   "cell_type": "code",
   "execution_count": null,
   "id": "dcb6d36d",
   "metadata": {},
   "outputs": [],
   "source": []
  },
  {
   "cell_type": "code",
   "execution_count": null,
   "id": "ffa4ffb0",
   "metadata": {},
   "outputs": [],
   "source": []
  }
 ],
 "metadata": {
  "kernelspec": {
   "display_name": "Python 3 (ipykernel)",
   "language": "python",
   "name": "python3"
  },
  "language_info": {
   "codemirror_mode": {
    "name": "ipython",
    "version": 3
   },
   "file_extension": ".py",
   "mimetype": "text/x-python",
   "name": "python",
   "nbconvert_exporter": "python",
   "pygments_lexer": "ipython3",
   "version": "3.9.12"
  }
 },
 "nbformat": 4,
 "nbformat_minor": 5
}
